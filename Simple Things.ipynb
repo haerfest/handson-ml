{
 "cells": [
  {
   "cell_type": "markdown",
   "metadata": {},
   "source": [
    "# Softmax"
   ]
  },
  {
   "cell_type": "markdown",
   "metadata": {},
   "source": [
    "The softmax function is described in detail in [Wikipedia](https://en.wikipedia.org/wiki/Softmax_function).\n",
    "\n",
    "In short, it returns a probability distribution for the values in a vector **z**. It is defined as, for each element $z_j$ in vector **z**:\n",
    "\n",
    "\\begin{equation}\n",
    "\\sigma(z)_{j} = \\frac{e^{z_{j}}}{\\Sigma_{k=1}^K e^{z_{k}}}\n",
    "\\end{equation}\n",
    "\n",
    "Recognize that it *scales* the exponent of each element (= $e^{z_j}$) by dividing it by a constant sum, which is the summation of the exponents of all the elements of the vector (= $\\Sigma_{k=1}^K e^{z_{k}}$).\n",
    "\n",
    "If there is just one value in **z**, it translates to:\n",
    "\n",
    "\\begin{equation}\n",
    "\\sigma(z)_{1} = \\frac{e^{z_{j}}}{\\Sigma_{k=1}^1 e^{z_{k}}} = \\frac{e^{z_1}}{e^{z_1}} = 1\n",
    "\\end{equation}\n",
    "\n",
    "For two values:\n",
    "\n",
    "\\begin{equation}\n",
    "\\begin{split}\n",
    "\\sigma(z)_{1} &= \\frac{e^{z_1}}{e^{z_1} + e^{z_2}} \\\\\n",
    "\\sigma(z)_{2} &= \\frac{e^{z_2}}{e^{z_1} + e^{z_2}} \\\\\n",
    "\\end{split}\n",
    "\\end{equation}\n",
    "\n",
    "And so on.\n",
    "\n",
    "Note that the sum of the softmax result is always 1."
   ]
  },
  {
   "cell_type": "code",
   "execution_count": 13,
   "metadata": {},
   "outputs": [],
   "source": [
    "import math\n",
    "\n",
    "def softmax(vector):\n",
    "    s = 0\n",
    "    for x in vector:\n",
    "        s = s + math.exp(x)\n",
    "    return [math.exp(x) / s for x in vector]"
   ]
  },
  {
   "cell_type": "code",
   "execution_count": 14,
   "metadata": {},
   "outputs": [
    {
     "data": {
      "text/plain": [
       "[1.0]"
      ]
     },
     "execution_count": 14,
     "metadata": {},
     "output_type": "execute_result"
    }
   ],
   "source": [
    "softmax([8])"
   ]
  },
  {
   "cell_type": "code",
   "execution_count": 15,
   "metadata": {},
   "outputs": [
    {
     "data": {
      "text/plain": [
       "[0.5, 0.5]"
      ]
     },
     "execution_count": 15,
     "metadata": {},
     "output_type": "execute_result"
    }
   ],
   "source": [
    "softmax([3, 3])"
   ]
  },
  {
   "cell_type": "code",
   "execution_count": 22,
   "metadata": {},
   "outputs": [
    {
     "data": {
      "text/plain": [
       "[0.2689414213699951, 0.7310585786300049]"
      ]
     },
     "execution_count": 22,
     "metadata": {},
     "output_type": "execute_result"
    }
   ],
   "source": [
    "softmax([1, 2])"
   ]
  },
  {
   "cell_type": "code",
   "execution_count": 16,
   "metadata": {},
   "outputs": [
    {
     "data": {
      "text/plain": [
       "[0.6336913225737218,\n",
       " 0.00426977854528211,\n",
       " 0.03154963320110001,\n",
       " 0.08576079462509835,\n",
       " 0.011606461431184656,\n",
       " 0.23312200962361299]"
      ]
     },
     "execution_count": 16,
     "metadata": {},
     "output_type": "execute_result"
    }
   ],
   "source": [
    "v = [5, 0, 2, 3, 1, 4]\n",
    "softmax(v)"
   ]
  },
  {
   "cell_type": "code",
   "execution_count": 17,
   "metadata": {},
   "outputs": [
    {
     "data": {
      "text/plain": [
       "0.9999999999999999"
      ]
     },
     "execution_count": 17,
     "metadata": {},
     "output_type": "execute_result"
    }
   ],
   "source": [
    "sum(softmax(v))"
   ]
  },
  {
   "cell_type": "code",
   "execution_count": null,
   "metadata": {
    "collapsed": true
   },
   "outputs": [],
   "source": []
  }
 ],
 "metadata": {
  "kernelspec": {
   "display_name": "Python 3",
   "language": "python",
   "name": "python3"
  },
  "language_info": {
   "codemirror_mode": {
    "name": "ipython",
    "version": 3
   },
   "file_extension": ".py",
   "mimetype": "text/x-python",
   "name": "python",
   "nbconvert_exporter": "python",
   "pygments_lexer": "ipython3",
   "version": "3.6.1"
  }
 },
 "nbformat": 4,
 "nbformat_minor": 2
}
