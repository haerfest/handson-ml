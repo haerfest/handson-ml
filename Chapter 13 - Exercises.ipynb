{
 "cells": [
  {
   "cell_type": "markdown",
   "metadata": {},
   "source": [
    "## Exercise 7\n",
    "\n",
    "Build your own CNN and try to achieve the highest possible accuracy on MNIST."
   ]
  },
  {
   "cell_type": "markdown",
   "metadata": {},
   "source": [
    "### Introduction"
   ]
  },
  {
   "cell_type": "markdown",
   "metadata": {},
   "source": [
    "Although TensorFlow r1.3 was just released, I'll stick to the r1.2 as used in the book.\n",
    "\n",
    "What will I try?\n",
    "\n",
    "1. Input images are 28x28 pixels grayscale, so one channel.\n",
    "2. I'll add a Convolutional Layer with a certain number of 3x3 filters, which have to be trained. ReLU (Rectified Linear Units) as activation functions.\n",
    "    - See [`tf.layers.conv2d`](https://www.tensorflow.org/versions/r1.2/api_docs/python/tf/layers/conv2d)\n",
    "3. Then a Pooling Layer to reduce the network output.\n",
    "4. May repeat this a few times, but for now just try one of each.\n",
    "5. End with a fully connected Neural Network into ten outputs. Softmax?\n",
    "\n",
    "Useful links:\n",
    "* [TensorFlow r1.2 Python API](https://www.tensorflow.org/versions/r1.2/api_docs/python/)\n",
    "* [MNIST For ML Beginners](https://www.tensorflow.org/get_started/mnist/beginners)\n",
    "* [TensorFlow Mechanics 101](https://www.tensorflow.org/get_started/mnist/mechanics)"
   ]
  },
  {
   "cell_type": "code",
   "execution_count": 1,
   "metadata": {
    "collapsed": true
   },
   "outputs": [],
   "source": [
    "import numpy as np\n",
    "import tensorflow as tf\n",
    "from tensorflow.examples.tutorials.mnist import input_data"
   ]
  },
  {
   "cell_type": "markdown",
   "metadata": {},
   "source": [
    "TensorFlow has the MNIST data set as an example built-in.\n",
    "\n",
    "The `one_hot=True` parameter has to do with how the targets or labels are encoded (see [this Quora question](https://www.quora.com/What-does-the-one_hot-True-parameter-on-the-MNIST-tensorflow-for-beginners-example-mean)). If a digit represents the number 3, then instead of the label being the integer 3, the label is a Tensor of ten booleans, where all are false except the one representing the class '3'."
   ]
  },
  {
   "cell_type": "code",
   "execution_count": 2,
   "metadata": {},
   "outputs": [
    {
     "name": "stdout",
     "output_type": "stream",
     "text": [
      "Extracting MNIST_data/train-images-idx3-ubyte.gz\n",
      "Extracting MNIST_data/train-labels-idx1-ubyte.gz\n",
      "Extracting MNIST_data/t10k-images-idx3-ubyte.gz\n",
      "Extracting MNIST_data/t10k-labels-idx1-ubyte.gz\n"
     ]
    }
   ],
   "source": [
    "mnist = input_data.read_data_sets('MNIST_data/', one_hot=False)"
   ]
  },
  {
   "cell_type": "markdown",
   "metadata": {},
   "source": [
    "The `mnist` variable is a collection of three data sets:\n",
    "- one set to train with\n",
    "- one set to validate our trained network, to know whether we are improving or not\n",
    "- one set to test our validated network, at the very end"
   ]
  },
  {
   "cell_type": "code",
   "execution_count": 3,
   "metadata": {},
   "outputs": [
    {
     "data": {
      "text/plain": [
       "Datasets(train=<tensorflow.contrib.learn.python.learn.datasets.mnist.DataSet object at 0x110434cc0>, validation=<tensorflow.contrib.learn.python.learn.datasets.mnist.DataSet object at 0x10d132b70>, test=<tensorflow.contrib.learn.python.learn.datasets.mnist.DataSet object at 0x110426908>)"
      ]
     },
     "execution_count": 3,
     "metadata": {},
     "output_type": "execute_result"
    }
   ],
   "source": [
    "mnist"
   ]
  },
  {
   "cell_type": "markdown",
   "metadata": {},
   "source": [
    "Create a placeholder `X`, which we will feed with the images. Note that `tf.layers.conv2d` requires a 4D-Tensor as input, consisting of:\n",
    "- batch size\n",
    "- height\n",
    "- width\n",
    "- channel count\n",
    "\n",
    "We also need a placeholder `y` for the labels:"
   ]
  },
  {
   "cell_type": "code",
   "execution_count": 4,
   "metadata": {},
   "outputs": [],
   "source": [
    "height   = 28\n",
    "width    = 28\n",
    "channels = 1\n",
    "X = tf.placeholder(np.float32, shape=(None, height, width, channels))\n",
    "y = tf.placeholder(np.int32, shape=(None))"
   ]
  },
  {
   "cell_type": "markdown",
   "metadata": {},
   "source": [
    "Let's create a convolutional layer. I have no idea what good values are for some hyperparameters, so let's try:"
   ]
  },
  {
   "cell_type": "code",
   "execution_count": 5,
   "metadata": {},
   "outputs": [
    {
     "data": {
      "text/plain": [
       "<tf.Tensor 'conv2d/Relu:0' shape=(?, 28, 28, 5) dtype=float32>"
      ]
     },
     "execution_count": 5,
     "metadata": {},
     "output_type": "execute_result"
    }
   ],
   "source": [
    "conv_layer = tf.layers.conv2d(inputs=X, filters=5, kernel_size=5, padding='same', activation=tf.nn.relu)\n",
    "conv_layer"
   ]
  },
  {
   "cell_type": "markdown",
   "metadata": {},
   "source": [
    "So we got a Tensor containing 5 feature maps, one for each filter. Each feature map is 28x28 neurons in size."
   ]
  },
  {
   "cell_type": "markdown",
   "metadata": {},
   "source": [
    "And a pooling layer to reduce the data:"
   ]
  },
  {
   "cell_type": "code",
   "execution_count": 6,
   "metadata": {},
   "outputs": [
    {
     "data": {
      "text/plain": [
       "<tf.Tensor 'max_pooling2d/MaxPool:0' shape=(?, 10, 10, 5) dtype=float32>"
      ]
     },
     "execution_count": 6,
     "metadata": {},
     "output_type": "execute_result"
    }
   ],
   "source": [
    "pooling_layer = tf.layers.max_pooling2d(inputs=conv_layer, pool_size=3, strides=3, padding='same')\n",
    "pooling_layer"
   ]
  },
  {
   "cell_type": "markdown",
   "metadata": {},
   "source": [
    "The pooling layer contains the same number of feature maps as before, but each one is reduced in size from 28x28 to 10x10 because of our stride being 3:"
   ]
  },
  {
   "cell_type": "code",
   "execution_count": 7,
   "metadata": {},
   "outputs": [
    {
     "data": {
      "text/plain": [
       "10"
      ]
     },
     "execution_count": 7,
     "metadata": {},
     "output_type": "execute_result"
    }
   ],
   "source": [
    "import math\n",
    "math.ceil(28 / 3)"
   ]
  },
  {
   "cell_type": "markdown",
   "metadata": {},
   "source": [
    "So we have 10x10x5 = 500 neurons there. We need to feed these to a fully-connected network."
   ]
  },
  {
   "cell_type": "code",
   "execution_count": 8,
   "metadata": {},
   "outputs": [
    {
     "data": {
      "text/plain": [
       "<tf.Tensor 'fully_connected/BiasAdd:0' shape=(?, 10, 10, 10) dtype=float32>"
      ]
     },
     "execution_count": 8,
     "metadata": {},
     "output_type": "execute_result"
    }
   ],
   "source": [
    "output_layer = tf.contrib.layers.fully_connected(inputs=pooling_layer, num_outputs=10, activation_fn=None)\n",
    "output_layer"
   ]
  },
  {
   "cell_type": "markdown",
   "metadata": {},
   "source": [
    "I guess I still need to define a cost or loss function and optimize it. The output layer is a 4D-Tensor with shape (?, 10, 10, 10), meaning:\n",
    "- a yet unknown number of instances, of\n",
    "- 10 rows of\n",
    "- 10 columns each per instance as input, and\n",
    "- 10 output classes (representing the digits 0-9).\n",
    "\n",
    "The cross entropy function below expects `labels` to be a 1D-Tensor with shape (?,) and `logits` to be a 2D-Tensor with shape (?, 10). That's why we slice the 4D-Tensor to a 2D-Tensor by throwing away the inner indices:"
   ]
  },
  {
   "cell_type": "code",
   "execution_count": 9,
   "metadata": {},
   "outputs": [],
   "source": [
    "cross_entropy = tf.nn.sparse_softmax_cross_entropy_with_logits(\n",
    "    labels=y,\n",
    "    logits=output_layer[:,0,0,:])\n",
    "loss = tf.reduce_mean(cross_entropy)"
   ]
  },
  {
   "cell_type": "markdown",
   "metadata": {},
   "source": [
    "And train using the good-old gradient descent:"
   ]
  },
  {
   "cell_type": "code",
   "execution_count": 10,
   "metadata": {
    "collapsed": true
   },
   "outputs": [],
   "source": [
    "optimizer = tf.train.GradientDescentOptimizer(learning_rate=0.01)\n",
    "training_op = optimizer.minimize(loss)"
   ]
  },
  {
   "cell_type": "markdown",
   "metadata": {},
   "source": [
    "Let's train!"
   ]
  },
  {
   "cell_type": "code",
   "execution_count": null,
   "metadata": {},
   "outputs": [],
   "source": [
    "n_epochs = 5\n",
    "batch_size = 50\n",
    "n_batches = mnist.train.num_examples // batch_size"
   ]
  },
  {
   "cell_type": "markdown",
   "metadata": {},
   "source": [
    "Note that we must `reshape` the images in the batch, since `images` will be of shape `(50, 784)` and our convolutional layer requires an input of shape `(?, 28, 28, 1)`:"
   ]
  },
  {
   "cell_type": "code",
   "execution_count": null,
   "metadata": {},
   "outputs": [
    {
     "name": "stdout",
     "output_type": "stream",
     "text": [
      "epoch 5/5"
     ]
    }
   ],
   "source": [
    "init = tf.global_variables_initializer()\n",
    "\n",
    "with tf.Session() as sess:\n",
    "    sess.run(init)\n",
    "    \n",
    "    for epoch in range(n_epochs):\n",
    "        print(\"\\repoch {}/{}\".format(epoch + 1, n_epochs), end='')\n",
    "        for batch in range(n_batches):\n",
    "            images, labels = mnist.train.next_batch(batch_size=50)\n",
    "            reshaped = np.reshape(images, (batch_size, height, width, channels))\n",
    "            sess.run(training_op, feed_dict={X: reshaped, y: labels})"
   ]
  }
 ],
 "metadata": {
  "kernelspec": {
   "display_name": "Python 3",
   "language": "python",
   "name": "python3"
  },
  "language_info": {
   "codemirror_mode": {
    "name": "ipython",
    "version": 3
   },
   "file_extension": ".py",
   "mimetype": "text/x-python",
   "name": "python",
   "nbconvert_exporter": "python",
   "pygments_lexer": "ipython3",
   "version": "3.6.1"
  }
 },
 "nbformat": 4,
 "nbformat_minor": 2
}
