{
 "cells": [
  {
   "cell_type": "markdown",
   "metadata": {},
   "source": [
    "## Training a Sequence Classifier"
   ]
  },
  {
   "cell_type": "markdown",
   "metadata": {},
   "source": [
    "From the book's [Github](https://github.com/ageron/handson-ml/):"
   ]
  },
  {
   "cell_type": "code",
   "execution_count": 6,
   "metadata": {
    "collapsed": true
   },
   "outputs": [],
   "source": [
    "def reset_graph(seed=42):\n",
    "    tf.reset_default_graph()\n",
    "    tf.set_random_seed(seed)\n",
    "    np.random.seed(seed)"
   ]
  },
  {
   "cell_type": "code",
   "execution_count": 1,
   "metadata": {
    "collapsed": true
   },
   "outputs": [],
   "source": [
    "import numpy as np\n",
    "import tensorflow as tf\n",
    "from tensorflow.contrib.layers import fully_connected, variance_scaling_initializer\n",
    "from tensorflow.examples.tutorials.mnist import input_data"
   ]
  },
  {
   "cell_type": "markdown",
   "metadata": {},
   "source": [
    "The dimensions of the RNN:"
   ]
  },
  {
   "cell_type": "code",
   "execution_count": 2,
   "metadata": {
    "collapsed": true
   },
   "outputs": [],
   "source": [
    "n_steps   = 28   # Each step we feed a single row.\n",
    "n_inputs  = 28   # Each row consists of 28 pixels so each step needs 28 inputs.\n",
    "n_neurons = 150  # We use 150 neurons in the recurrent layer.\n",
    "n_outputs = 10   # And 10 neurons in the fully connected output layer.\n",
    "\n",
    "learning_rate = 0.001"
   ]
  },
  {
   "cell_type": "markdown",
   "metadata": {},
   "source": [
    "Build the RNN:"
   ]
  },
  {
   "cell_type": "code",
   "execution_count": 9,
   "metadata": {},
   "outputs": [],
   "source": [
    "reset_graph()\n",
    "\n",
    "X = tf.placeholder(tf.float32, [None, n_steps, n_inputs])\n",
    "y = tf.placeholder(tf.int32, [None])\n",
    "\n",
    "# The recurrent layer.\n",
    "basic_cell = tf.contrib.rnn.BasicRNNCell(num_units=n_neurons)\n",
    "outputs, states = tf.nn.dynamic_rnn(basic_cell, X, dtype=tf.float32)\n",
    "\n",
    "# The output layer.\n",
    "logits = fully_connected(states, n_outputs, activation_fn=None)\n",
    "\n",
    "# Define our loss measure.\n",
    "xentropy = tf.nn.sparse_softmax_cross_entropy_with_logits(labels=y, logits=logits)\n",
    "loss = tf.reduce_mean(xentropy)\n",
    "\n",
    "# Declare an optimizer to minimize the loss.\n",
    "optimizer = tf.train.AdamOptimizer(learning_rate=learning_rate)\n",
    "training_op = optimizer.minimize(loss)\n",
    "\n",
    "# An accuracy measurement.\n",
    "correct = tf.nn.in_top_k(logits, y, 1)\n",
    "accuracy = tf.reduce_mean(tf.cast(correct, tf.float32))\n",
    "\n",
    "init = tf.global_variables_initializer()"
   ]
  },
  {
   "cell_type": "markdown",
   "metadata": {},
   "source": [
    "The RNN looks like this (edit the [XML](RNN.xml) in [draw.io](http://draw.io)):\n",
    "\n",
    "<img src=\"RNN.svg\" />\n",
    "\n",
    "Obviously not all connections between neurons are drawn."
   ]
  },
  {
   "cell_type": "markdown",
   "metadata": {},
   "source": [
    "Read the MNIST data:"
   ]
  },
  {
   "cell_type": "code",
   "execution_count": 4,
   "metadata": {},
   "outputs": [
    {
     "name": "stdout",
     "output_type": "stream",
     "text": [
      "Extracting /tmp/data/train-images-idx3-ubyte.gz\n",
      "Extracting /tmp/data/train-labels-idx1-ubyte.gz\n",
      "Extracting /tmp/data/t10k-images-idx3-ubyte.gz\n",
      "Extracting /tmp/data/t10k-labels-idx1-ubyte.gz\n"
     ]
    }
   ],
   "source": [
    "mnist  = input_data.read_data_sets('/tmp/data/')\n",
    "X_test = mnist.test.images.reshape((-1, n_steps, n_inputs))\n",
    "y_test = mnist.test.labels"
   ]
  },
  {
   "cell_type": "code",
   "execution_count": 10,
   "metadata": {},
   "outputs": [
    {
     "name": "stdout",
     "output_type": "stream",
     "text": [
      "0 Train accuracy: 0.9 Test accuracy: 0.9225\n",
      "1 Train accuracy: 0.966667 Test accuracy: 0.9401\n",
      "2 Train accuracy: 0.96 Test accuracy: 0.9617\n",
      "3 Train accuracy: 0.96 Test accuracy: 0.951\n",
      "4 Train accuracy: 0.973333 Test accuracy: 0.9664\n",
      "5 Train accuracy: 0.98 Test accuracy: 0.9684\n",
      "6 Train accuracy: 0.986667 Test accuracy: 0.9732\n",
      "7 Train accuracy: 0.986667 Test accuracy: 0.9713\n",
      "8 Train accuracy: 0.973333 Test accuracy: 0.9719\n",
      "9 Train accuracy: 0.986667 Test accuracy: 0.969\n",
      "10 Train accuracy: 0.973333 Test accuracy: 0.9733\n",
      "11 Train accuracy: 1.0 Test accuracy: 0.9683\n",
      "12 Train accuracy: 0.986667 Test accuracy: 0.9717\n",
      "13 Train accuracy: 0.973333 Test accuracy: 0.9757\n",
      "14 Train accuracy: 0.993333 Test accuracy: 0.9759\n",
      "15 Train accuracy: 0.98 Test accuracy: 0.9703\n",
      "16 Train accuracy: 1.0 Test accuracy: 0.9757\n",
      "17 Train accuracy: 0.98 Test accuracy: 0.9731\n",
      "18 Train accuracy: 0.993333 Test accuracy: 0.9771\n",
      "19 Train accuracy: 0.993333 Test accuracy: 0.9727\n",
      "20 Train accuracy: 0.986667 Test accuracy: 0.9752\n",
      "21 Train accuracy: 0.986667 Test accuracy: 0.9738\n",
      "22 Train accuracy: 0.993333 Test accuracy: 0.979\n",
      "23 Train accuracy: 1.0 Test accuracy: 0.9757\n",
      "24 Train accuracy: 0.986667 Test accuracy: 0.974\n",
      "25 Train accuracy: 0.986667 Test accuracy: 0.9753\n",
      "26 Train accuracy: 0.986667 Test accuracy: 0.9764\n",
      "27 Train accuracy: 0.986667 Test accuracy: 0.972\n",
      "28 Train accuracy: 0.986667 Test accuracy: 0.9747\n",
      "29 Train accuracy: 0.993333 Test accuracy: 0.9751\n",
      "30 Train accuracy: 1.0 Test accuracy: 0.973\n",
      "31 Train accuracy: 1.0 Test accuracy: 0.9776\n",
      "32 Train accuracy: 1.0 Test accuracy: 0.9766\n",
      "33 Train accuracy: 1.0 Test accuracy: 0.9769\n",
      "34 Train accuracy: 0.993333 Test accuracy: 0.9777\n",
      "35 Train accuracy: 1.0 Test accuracy: 0.9785\n",
      "36 Train accuracy: 0.993333 Test accuracy: 0.9797\n",
      "37 Train accuracy: 1.0 Test accuracy: 0.978\n",
      "38 Train accuracy: 0.986667 Test accuracy: 0.9779\n",
      "39 Train accuracy: 0.993333 Test accuracy: 0.9781\n",
      "40 Train accuracy: 1.0 Test accuracy: 0.9783\n",
      "41 Train accuracy: 1.0 Test accuracy: 0.9781\n",
      "42 Train accuracy: 0.986667 Test accuracy: 0.9748\n",
      "43 Train accuracy: 1.0 Test accuracy: 0.9728\n",
      "44 Train accuracy: 0.993333 Test accuracy: 0.9766\n",
      "45 Train accuracy: 0.986667 Test accuracy: 0.9626\n",
      "46 Train accuracy: 1.0 Test accuracy: 0.9787\n",
      "47 Train accuracy: 0.993333 Test accuracy: 0.976\n",
      "48 Train accuracy: 0.98 Test accuracy: 0.9715\n",
      "49 Train accuracy: 1.0 Test accuracy: 0.9744\n",
      "50 Train accuracy: 0.993333 Test accuracy: 0.9791\n",
      "51 Train accuracy: 0.986667 Test accuracy: 0.9771\n",
      "52 Train accuracy: 1.0 Test accuracy: 0.9798\n",
      "53 Train accuracy: 1.0 Test accuracy: 0.9813\n",
      "54 Train accuracy: 0.98 Test accuracy: 0.9742\n",
      "55 Train accuracy: 1.0 Test accuracy: 0.9697\n",
      "56 Train accuracy: 1.0 Test accuracy: 0.9783\n",
      "57 Train accuracy: 0.993333 Test accuracy: 0.9762\n",
      "58 Train accuracy: 1.0 Test accuracy: 0.9806\n",
      "59 Train accuracy: 0.98 Test accuracy: 0.9776\n",
      "60 Train accuracy: 0.98 Test accuracy: 0.98\n",
      "61 Train accuracy: 1.0 Test accuracy: 0.9751\n",
      "62 Train accuracy: 0.993333 Test accuracy: 0.9763\n",
      "63 Train accuracy: 0.986667 Test accuracy: 0.9747\n",
      "64 Train accuracy: 0.993333 Test accuracy: 0.9738\n",
      "65 Train accuracy: 0.993333 Test accuracy: 0.9796\n",
      "66 Train accuracy: 1.0 Test accuracy: 0.9791\n",
      "67 Train accuracy: 1.0 Test accuracy: 0.9771\n",
      "68 Train accuracy: 0.993333 Test accuracy: 0.9747\n",
      "69 Train accuracy: 1.0 Test accuracy: 0.9807\n",
      "70 Train accuracy: 0.993333 Test accuracy: 0.9765\n",
      "71 Train accuracy: 1.0 Test accuracy: 0.9778\n",
      "72 Train accuracy: 0.993333 Test accuracy: 0.9786\n",
      "73 Train accuracy: 0.993333 Test accuracy: 0.9829\n",
      "74 Train accuracy: 0.993333 Test accuracy: 0.9775\n",
      "75 Train accuracy: 0.986667 Test accuracy: 0.9733\n",
      "76 Train accuracy: 1.0 Test accuracy: 0.9804\n",
      "77 Train accuracy: 0.993333 Test accuracy: 0.9788\n",
      "78 Train accuracy: 1.0 Test accuracy: 0.9793\n",
      "79 Train accuracy: 1.0 Test accuracy: 0.9721\n",
      "80 Train accuracy: 0.986667 Test accuracy: 0.9793\n",
      "81 Train accuracy: 0.986667 Test accuracy: 0.9731\n",
      "82 Train accuracy: 0.98 Test accuracy: 0.9778\n",
      "83 Train accuracy: 0.986667 Test accuracy: 0.9809\n",
      "84 Train accuracy: 0.993333 Test accuracy: 0.9699\n",
      "85 Train accuracy: 0.993333 Test accuracy: 0.9793\n",
      "86 Train accuracy: 0.993333 Test accuracy: 0.9793\n",
      "87 Train accuracy: 1.0 Test accuracy: 0.9758\n",
      "88 Train accuracy: 0.986667 Test accuracy: 0.9753\n",
      "89 Train accuracy: 0.986667 Test accuracy: 0.9765\n",
      "90 Train accuracy: 0.98 Test accuracy: 0.9753\n",
      "91 Train accuracy: 0.993333 Test accuracy: 0.9796\n",
      "92 Train accuracy: 0.986667 Test accuracy: 0.9797\n",
      "93 Train accuracy: 0.993333 Test accuracy: 0.9764\n",
      "94 Train accuracy: 1.0 Test accuracy: 0.976\n",
      "95 Train accuracy: 0.986667 Test accuracy: 0.9738\n",
      "96 Train accuracy: 0.993333 Test accuracy: 0.975\n",
      "97 Train accuracy: 1.0 Test accuracy: 0.9749\n",
      "98 Train accuracy: 1.0 Test accuracy: 0.977\n",
      "99 Train accuracy: 0.993333 Test accuracy: 0.9772\n"
     ]
    }
   ],
   "source": [
    "n_epochs   = 100\n",
    "batch_size = 150\n",
    "\n",
    "with tf.Session() as sess:\n",
    "    init.run()\n",
    "    for epoch in range(n_epochs):\n",
    "        for iteration in range(mnist.train.num_examples // batch_size):\n",
    "            X_batch, y_batch = mnist.train.next_batch(batch_size)\n",
    "            X_batch = X_batch.reshape((-1, n_steps, n_inputs))\n",
    "            sess.run(training_op, feed_dict={X: X_batch, y: y_batch})\n",
    "        \n",
    "        acc_train = accuracy.eval(feed_dict={X: X_batch, y: y_batch})\n",
    "        acc_test  = accuracy.eval(feed_dict={X: X_test,  y: y_test})\n",
    "        print(epoch, \"Train accuracy:\", acc_train, \"Test accuracy:\", acc_test)"
   ]
  },
  {
   "cell_type": "code",
   "execution_count": null,
   "metadata": {
    "collapsed": true
   },
   "outputs": [],
   "source": []
  }
 ],
 "metadata": {
  "kernelspec": {
   "display_name": "Python 3",
   "language": "python",
   "name": "python3"
  },
  "language_info": {
   "codemirror_mode": {
    "name": "ipython",
    "version": 3
   },
   "file_extension": ".py",
   "mimetype": "text/x-python",
   "name": "python",
   "nbconvert_exporter": "python",
   "pygments_lexer": "ipython3",
   "version": "3.6.1"
  }
 },
 "nbformat": 4,
 "nbformat_minor": 2
}
