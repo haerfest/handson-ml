{
 "cells": [
  {
   "cell_type": "markdown",
   "metadata": {},
   "source": [
    "# Reinforcement Learning\n",
    "\n",
    "See the [OpenAI Gym](https://gym.openai.com/) page on [CartPole-v0](https://gym.openai.com/envs/CartPole-v0/)."
   ]
  },
  {
   "cell_type": "code",
   "execution_count": 1,
   "metadata": {},
   "outputs": [
    {
     "name": "stderr",
     "output_type": "stream",
     "text": [
      "[2017-09-27 11:48:00,623] Making new env: CartPole-v0\n"
     ]
    }
   ],
   "source": [
    "import gym\n",
    "\n",
    "env = gym.make('CartPole-v0')"
   ]
  },
  {
   "cell_type": "code",
   "execution_count": 2,
   "metadata": {
    "collapsed": true
   },
   "outputs": [],
   "source": [
    "import numpy as np\n",
    "import tensorflow as tf\n",
    "from tensorflow.contrib.layers import fully_connected"
   ]
  },
  {
   "cell_type": "code",
   "execution_count": 3,
   "metadata": {},
   "outputs": [],
   "source": [
    "n_inputs  = 4\n",
    "n_hidden  = 4\n",
    "n_outputs = 1\n",
    "\n",
    "initializer = tf.contrib.layers.variance_scaling_initializer()\n",
    "\n",
    "learning_rate = 0.01\n",
    "\n",
    "X       = tf.placeholder(tf.float32, shape=[None, n_inputs])\n",
    "hidden  = fully_connected(X, n_hidden, activation_fn=tf.nn.elu, weights_initializer=initializer)\n",
    "logits  = fully_connected(hidden, n_outputs, activation_fn=None, weights_initializer=initializer)\n",
    "outputs = tf.nn.sigmoid(logits)\n",
    "\n",
    "p_left_and_right = tf.concat(axis=1, values=[outputs, 1 - outputs])\n",
    "action           = tf.multinomial(tf.log(p_left_and_right), num_samples=1)\n",
    "\n",
    "y = 1. - tf.to_float(action) \n",
    "\n",
    "cross_entropy  = tf.nn.sigmoid_cross_entropy_with_logits(labels=y, logits=logits)\n",
    "optimizer      = tf.train.AdamOptimizer(learning_rate)\n",
    "grads_and_vars = optimizer.compute_gradients(cross_entropy)\n",
    "\n",
    "gradients = [grad for (grad, variable) in grads_and_vars]\n",
    "\n",
    "gradient_placeholders = []\n",
    "grads_and_vars_feed   = []\n",
    "for grad, variable in grads_and_vars:\n",
    "    gradient_placeholder = tf.placeholder(tf.float32, shape=grad.get_shape())\n",
    "    gradient_placeholders.append(gradient_placeholder)\n",
    "    grads_and_vars_feed.append((gradient_placeholder, variable))\n",
    "\n",
    "training_op = optimizer.apply_gradients(grads_and_vars_feed)\n",
    "\n",
    "init = tf.global_variables_initializer()\n",
    "saver = tf.train.Saver()"
   ]
  },
  {
   "cell_type": "markdown",
   "metadata": {},
   "source": [
    "The following line had me stumped for a while:\n",
    "\n",
    "```python\n",
    "y = 1. - tf.to_float(action)\n",
    "```\n",
    "\n",
    "Or, in essence:\n",
    "\n",
    "```python\n",
    "y = 1 - action\n",
    "```\n",
    "\n",
    "What is going on here?\n",
    "\n",
    "We need to back up to the definition on pages 446 and 447 of the book, of what the network _outputs_ in its single output neuron named '`outputs`':\n",
    "\n",
    "> It will output the **probability** _p_ of action 0 (left)\n",
    "\n",
    "So if the network outputs 0.7, for example, that means it wants us to choose between the only two possible actions of **left** and **right** with assigning _left_ a probability of 0.7 and _right_ a probability of 0.3. We then choose the `action` in exactly this way, by calling `tf.multinomial(...)`.\n",
    "\n",
    "We know have an `action` which is either 0 (left) or 1 (right).\n",
    "\n",
    "So far so good, but to make the network _learn_, we have to tell it which _output_ (i.e. target) we would have _wanted_ to get. This is supervised learning and allows us to compute an error term, then gradients, then update various weights using back-propagation, and tune the network in the direction of getting better at keeping the pole upright.\n",
    "\n",
    "We don't _know_ at any time whether moving left is better than moving right, or vice versa, so the best we can do is _assume_ that whatever action was chosen, it was the best one.\n",
    "\n",
    "That means:\n",
    "\n",
    "- if the action chosen was to go _left_, we would have wanted the network's output to strongly indicate we should go left;\n",
    "- if the action chosen was to go _right_, we would have wanted the network's output to strongly indicate we should go right.\n",
    "\n",
    "As before, we go back to the definition of _output_ in the book and realize that the desired network output represents:\n",
    "\n",
    "> the **probability** _p_ of action 0 (left)\n",
    "\n",
    "That means, quite simply, that:\n",
    "\n",
    "- if the action chosen was to go _left_, we would have wanted the network to output the _highest_ possible probability _p_ of action 0 (left), or 1.0;\n",
    "- if action chosen was to go _right_, we would have wanted the network to output the _lowest_ possible probability _p_ of action 0 (left), or 0.0.\n",
    "\n",
    "In table form:\n",
    "\n",
    "Chosen action | Desired network output | By definition\n",
    ":------------:|:----------------------:|:-----------------------------------:\n",
    "left (0)      | go left                | maximum probability to go left (1.0)\n",
    "right (1)     | go right               | minimum probability to go left (0.0)\n",
    "\n",
    "And this last column is exactly what the following simple Python expression computes:\n",
    "\n",
    "```python\n",
    "y = 1 - action\n",
    "```\n",
    "\n",
    "action | y\n",
    ":-----:|:-:\n",
    "0      | 1\n",
    "1      | 0"
   ]
  },
  {
   "cell_type": "code",
   "execution_count": 4,
   "metadata": {
    "collapsed": true
   },
   "outputs": [],
   "source": [
    "def discount_rewards(rewards, discount_rate):\n",
    "    discounted_rewards = np.empty(len(rewards))\n",
    "\n",
    "    cumulative_rewards = 0\n",
    "    for step in reversed(range(len(rewards))):\n",
    "        cumulative_rewards = rewards[step] + cumulative_rewards * discount_rate\n",
    "        discounted_rewards[step] = cumulative_rewards\n",
    "\n",
    "    return discounted_rewards\n",
    "\n",
    "def discount_and_normalize_rewards(all_rewards, discount_rate):\n",
    "    all_discounted_rewards = [discount_rewards(rewards, discount_rate) for rewards in all_rewards]\n",
    "    flat_rewards           = np.concatenate(all_discounted_rewards)\n",
    "    \n",
    "    reward_mean = flat_rewards.mean()\n",
    "    reward_std  = flat_rewards.std()\n",
    "    \n",
    "    return [(discounted_rewards - reward_mean) / reward_std\n",
    "            for discounted_rewards in all_discounted_rewards]"
   ]
  },
  {
   "cell_type": "code",
   "execution_count": 5,
   "metadata": {},
   "outputs": [
    {
     "data": {
      "text/plain": [
       "array([-22., -40., -50.])"
      ]
     },
     "execution_count": 5,
     "metadata": {},
     "output_type": "execute_result"
    }
   ],
   "source": [
    "discount_rewards([10, 0, -50], discount_rate=0.8)"
   ]
  },
  {
   "cell_type": "code",
   "execution_count": 6,
   "metadata": {},
   "outputs": [
    {
     "data": {
      "text/plain": [
       "[array([-0.28435071, -0.86597718, -1.18910299]),\n",
       " array([ 1.26665318,  1.0727777 ])]"
      ]
     },
     "execution_count": 6,
     "metadata": {},
     "output_type": "execute_result"
    }
   ],
   "source": [
    "discount_and_normalize_rewards([[10, 0, -50], [10, 20]], discount_rate=0.8)"
   ]
  },
  {
   "cell_type": "code",
   "execution_count": 7,
   "metadata": {},
   "outputs": [],
   "source": [
    "n_iterations       = 2000\n",
    "n_max_steps        = 1000\n",
    "n_games_per_update = 10\n",
    "save_iterations    = 10\n",
    "discount_rate      = 0.95\n",
    "\n",
    "with tf.Session() as sess:\n",
    "    init.run()\n",
    "\n",
    "    for iteration in range(n_iterations):\n",
    "        all_rewards   = []\n",
    "        all_gradients = []\n",
    "        \n",
    "        # Run the game for a certain number of episodes.\n",
    "        for game in range(n_games_per_update):\n",
    "            current_rewards   = []\n",
    "            current_gradients = []\n",
    "            \n",
    "            obs = env.reset()\n",
    "            \n",
    "            for step in range(n_max_steps):\n",
    "                action_val, gradients_val = sess.run(\n",
    "                    [action, gradients],\n",
    "                    feed_dict={X: obs.reshape(1, n_inputs)})\n",
    "                \n",
    "                obs, reward, done, info = env.step(action_val[0][0])\n",
    "                \n",
    "                current_rewards.append(reward)\n",
    "                current_gradients.append(gradients_val)\n",
    "                \n",
    "                if done:\n",
    "                    break\n",
    "            \n",
    "            all_rewards.append(current_rewards)\n",
    "            all_gradients.append(current_gradients)\n",
    "        \n",
    "        # It's time for a policy update.\n",
    "        all_rewards = discount_and_normalize_rewards(all_rewards, discount_rate)\n",
    "        feed_dict   = {}\n",
    "        \n",
    "        for var_index, grad_placeholder in enumerate(gradient_placeholders):\n",
    "            # Multiply the gradients by the action scores, and compute the mean.\n",
    "            mean_gradients = np.mean(\n",
    "                [reward * all_gradients[game_index][step][var_index]\n",
    "                    for game_index, rewards in enumerate(all_rewards)\n",
    "                    for step, reward        in enumerate(rewards)],\n",
    "                axis=0)\n",
    "            \n",
    "            feed_dict[grad_placeholder] = mean_gradients\n",
    "            \n",
    "        sess.run(training_op, feed_dict=feed_dict)\n",
    "        \n",
    "        if iteration % save_iterations == 0:\n",
    "            saver.save(sess, './my_policy_net_pg.ckpt')"
   ]
  },
  {
   "cell_type": "markdown",
   "metadata": {},
   "source": [
    "Let's play!"
   ]
  },
  {
   "cell_type": "code",
   "execution_count": null,
   "metadata": {},
   "outputs": [],
   "source": [
    "obs = env.reset()\n",
    "env.render()\n",
    "\n",
    "with tf.Session() as sess:\n",
    "    saver.restore(sess, './my_policy_net_pg.ckpt')\n",
    "    \n",
    "    while True:\n",
    "        action_val = sess.run(action, feed_dict={X: obs.reshape(1, n_inputs)})\n",
    "        obs, _reward, done, _info = env.step(action_val[0][0])\n",
    "        env.render()\n",
    "        \n",
    "        if done:\n",
    "            break"
   ]
  }
 ],
 "metadata": {
  "kernelspec": {
   "display_name": "Python 3",
   "language": "python",
   "name": "python3"
  },
  "language_info": {
   "codemirror_mode": {
    "name": "ipython",
    "version": 3
   },
   "file_extension": ".py",
   "mimetype": "text/x-python",
   "name": "python",
   "nbconvert_exporter": "python",
   "pygments_lexer": "ipython3",
   "version": "3.6.1"
  }
 },
 "nbformat": 4,
 "nbformat_minor": 2
}
