{
 "cells": [
  {
   "cell_type": "markdown",
   "metadata": {},
   "source": [
    "# Kaggle - How Much Did It Rain? II"
   ]
  },
  {
   "cell_type": "markdown",
   "metadata": {},
   "source": [
    "Please download the following two files from Kaggle's [How Much Did It Rain? II](https://www.kaggle.com/c/how-much-did-it-rain-ii/) page. You will need to signup to a free Kaggle account if you don't have one yet.\n",
    "\n",
    "The files you need are:\n",
    "\n",
    "- train.zip\n",
    "- test.zip\n",
    "\n",
    "Kaggle's [description](https://www.kaggle.com/c/how-much-did-it-rain-ii/data) of the data:\n",
    "\n",
    "> To understand the data, you have to realize that there are multiple radar observations over the course of an hour, and only one gauge observation (the 'Expected'). That is why there are multiple rows with the same 'Id'.\n",
    "\n",
    "The columns in the datasets are:\n",
    "\n",
    "Column | Description\n",
    "-----: | :----------\n",
    "Id | A unique number for the set of observations over an hour at a gauge.\n",
    "minutes_past | For each set of radar observations, the minutes past the top of the hour that the radar observations were carried out.  Radar observations are snapshots at that point in time.\n",
    "radardist_km | Distance of gauge from the radar whose observations are being reported.\n",
    "Ref | Radar reflectivity in km\n",
    "Ref_5x5_10th | 10th percentile of reflectivity values in 5x5 neighborhood around the gauge.\n",
    "Ref_5x5_50th | 50th percentile\n",
    "Ref_5x5_90th | 90th percentile\n",
    "RefComposite | Maximum reflectivity in the vertical column above gauge.  In dBZ.\n",
    "RefComposite_5x5_10th |\n",
    "RefComposite_5x5_50th |\n",
    "RefComposite_5x5_90th |\n",
    "RhoHV | Correlation coefficient (unitless)\n",
    "RhoHV_5x5_10th |\n",
    "RhoHV_5x5_50th |\n",
    "RhoHV_5x5_90th |\n",
    "Zdr | Differential reflectivity in dB\n",
    "Zdr_5x5_10th |\n",
    "Zdr_5x5_50th |\n",
    "Zdr_5x5_90th |\n",
    "Kdp | Specific differential phase (deg/km)\n",
    "Kdp_5x5_10th |\n",
    "Kdp_5x5_50th |\n",
    "Kdp_5x5_90th |\n",
    "Expected | Actual gauge observation in mm at the end of the hour."
   ]
  },
  {
   "cell_type": "code",
   "execution_count": 261,
   "metadata": {},
   "outputs": [],
   "source": [
    "import os\n",
    "import random\n",
    "import pandas as pd\n",
    "import matplotlib.pyplot as plt\n",
    "import tensorflow as tf\n",
    "import numpy as np\n",
    "import math\n",
    "\n",
    "from datetime import datetime\n",
    "\n",
    "from tensorflow.contrib.rnn import GRUCell\n",
    "from tensorflow.contrib.layers import batch_norm, fully_connected, variance_scaling_initializer\n",
    "from tensorflow.contrib.learn import extract_pandas_data, extract_pandas_labels\n",
    "\n",
    "from sklearn.preprocessing import MinMaxScaler, StandardScaler"
   ]
  },
  {
   "cell_type": "markdown",
   "metadata": {},
   "source": [
    "The training and test data must exist before we can continue:"
   ]
  },
  {
   "cell_type": "code",
   "execution_count": null,
   "metadata": {
    "collapsed": true
   },
   "outputs": [],
   "source": [
    "assert os.path.isfile('train.csv')"
   ]
  },
  {
   "cell_type": "markdown",
   "metadata": {},
   "source": [
    "Import the training data:"
   ]
  },
  {
   "cell_type": "code",
   "execution_count": null,
   "metadata": {},
   "outputs": [],
   "source": [
    "df = pd.read_csv('train.csv')"
   ]
  },
  {
   "cell_type": "markdown",
   "metadata": {},
   "source": [
    "Quickly have a look at the data:"
   ]
  },
  {
   "cell_type": "code",
   "execution_count": 220,
   "metadata": {
    "scrolled": false
   },
   "outputs": [
    {
     "data": {
      "text/html": [
       "<div>\n",
       "<style>\n",
       "    .dataframe thead tr:only-child th {\n",
       "        text-align: right;\n",
       "    }\n",
       "\n",
       "    .dataframe thead th {\n",
       "        text-align: left;\n",
       "    }\n",
       "\n",
       "    .dataframe tbody tr th {\n",
       "        vertical-align: top;\n",
       "    }\n",
       "</style>\n",
       "<table border=\"1\" class=\"dataframe\">\n",
       "  <thead>\n",
       "    <tr style=\"text-align: right;\">\n",
       "      <th></th>\n",
       "      <th>Id</th>\n",
       "      <th>minutes_past</th>\n",
       "      <th>radardist_km</th>\n",
       "      <th>Ref</th>\n",
       "      <th>Ref_5x5_10th</th>\n",
       "      <th>Ref_5x5_50th</th>\n",
       "      <th>Ref_5x5_90th</th>\n",
       "      <th>RefComposite</th>\n",
       "      <th>RefComposite_5x5_10th</th>\n",
       "      <th>RefComposite_5x5_50th</th>\n",
       "      <th>...</th>\n",
       "      <th>RhoHV_5x5_90th</th>\n",
       "      <th>Zdr</th>\n",
       "      <th>Zdr_5x5_10th</th>\n",
       "      <th>Zdr_5x5_50th</th>\n",
       "      <th>Zdr_5x5_90th</th>\n",
       "      <th>Kdp</th>\n",
       "      <th>Kdp_5x5_10th</th>\n",
       "      <th>Kdp_5x5_50th</th>\n",
       "      <th>Kdp_5x5_90th</th>\n",
       "      <th>Expected</th>\n",
       "    </tr>\n",
       "  </thead>\n",
       "  <tbody>\n",
       "    <tr>\n",
       "      <th>0</th>\n",
       "      <td>1</td>\n",
       "      <td>3</td>\n",
       "      <td>10.0</td>\n",
       "      <td>NaN</td>\n",
       "      <td>NaN</td>\n",
       "      <td>NaN</td>\n",
       "      <td>NaN</td>\n",
       "      <td>NaN</td>\n",
       "      <td>NaN</td>\n",
       "      <td>NaN</td>\n",
       "      <td>...</td>\n",
       "      <td>NaN</td>\n",
       "      <td>NaN</td>\n",
       "      <td>NaN</td>\n",
       "      <td>NaN</td>\n",
       "      <td>NaN</td>\n",
       "      <td>NaN</td>\n",
       "      <td>NaN</td>\n",
       "      <td>NaN</td>\n",
       "      <td>NaN</td>\n",
       "      <td>0.254</td>\n",
       "    </tr>\n",
       "    <tr>\n",
       "      <th>1</th>\n",
       "      <td>1</td>\n",
       "      <td>16</td>\n",
       "      <td>10.0</td>\n",
       "      <td>NaN</td>\n",
       "      <td>NaN</td>\n",
       "      <td>NaN</td>\n",
       "      <td>NaN</td>\n",
       "      <td>NaN</td>\n",
       "      <td>NaN</td>\n",
       "      <td>NaN</td>\n",
       "      <td>...</td>\n",
       "      <td>NaN</td>\n",
       "      <td>NaN</td>\n",
       "      <td>NaN</td>\n",
       "      <td>NaN</td>\n",
       "      <td>NaN</td>\n",
       "      <td>NaN</td>\n",
       "      <td>NaN</td>\n",
       "      <td>NaN</td>\n",
       "      <td>NaN</td>\n",
       "      <td>0.254</td>\n",
       "    </tr>\n",
       "    <tr>\n",
       "      <th>2</th>\n",
       "      <td>1</td>\n",
       "      <td>25</td>\n",
       "      <td>10.0</td>\n",
       "      <td>NaN</td>\n",
       "      <td>NaN</td>\n",
       "      <td>NaN</td>\n",
       "      <td>NaN</td>\n",
       "      <td>NaN</td>\n",
       "      <td>NaN</td>\n",
       "      <td>NaN</td>\n",
       "      <td>...</td>\n",
       "      <td>NaN</td>\n",
       "      <td>NaN</td>\n",
       "      <td>NaN</td>\n",
       "      <td>NaN</td>\n",
       "      <td>NaN</td>\n",
       "      <td>NaN</td>\n",
       "      <td>NaN</td>\n",
       "      <td>NaN</td>\n",
       "      <td>NaN</td>\n",
       "      <td>0.254</td>\n",
       "    </tr>\n",
       "    <tr>\n",
       "      <th>3</th>\n",
       "      <td>1</td>\n",
       "      <td>35</td>\n",
       "      <td>10.0</td>\n",
       "      <td>NaN</td>\n",
       "      <td>NaN</td>\n",
       "      <td>NaN</td>\n",
       "      <td>NaN</td>\n",
       "      <td>NaN</td>\n",
       "      <td>NaN</td>\n",
       "      <td>NaN</td>\n",
       "      <td>...</td>\n",
       "      <td>NaN</td>\n",
       "      <td>NaN</td>\n",
       "      <td>NaN</td>\n",
       "      <td>NaN</td>\n",
       "      <td>NaN</td>\n",
       "      <td>NaN</td>\n",
       "      <td>NaN</td>\n",
       "      <td>NaN</td>\n",
       "      <td>NaN</td>\n",
       "      <td>0.254</td>\n",
       "    </tr>\n",
       "    <tr>\n",
       "      <th>4</th>\n",
       "      <td>1</td>\n",
       "      <td>45</td>\n",
       "      <td>10.0</td>\n",
       "      <td>NaN</td>\n",
       "      <td>NaN</td>\n",
       "      <td>NaN</td>\n",
       "      <td>NaN</td>\n",
       "      <td>NaN</td>\n",
       "      <td>NaN</td>\n",
       "      <td>NaN</td>\n",
       "      <td>...</td>\n",
       "      <td>NaN</td>\n",
       "      <td>NaN</td>\n",
       "      <td>NaN</td>\n",
       "      <td>NaN</td>\n",
       "      <td>NaN</td>\n",
       "      <td>NaN</td>\n",
       "      <td>NaN</td>\n",
       "      <td>NaN</td>\n",
       "      <td>NaN</td>\n",
       "      <td>0.254</td>\n",
       "    </tr>\n",
       "    <tr>\n",
       "      <th>5</th>\n",
       "      <td>1</td>\n",
       "      <td>55</td>\n",
       "      <td>10.0</td>\n",
       "      <td>NaN</td>\n",
       "      <td>NaN</td>\n",
       "      <td>NaN</td>\n",
       "      <td>NaN</td>\n",
       "      <td>NaN</td>\n",
       "      <td>NaN</td>\n",
       "      <td>NaN</td>\n",
       "      <td>...</td>\n",
       "      <td>NaN</td>\n",
       "      <td>NaN</td>\n",
       "      <td>NaN</td>\n",
       "      <td>NaN</td>\n",
       "      <td>NaN</td>\n",
       "      <td>NaN</td>\n",
       "      <td>NaN</td>\n",
       "      <td>NaN</td>\n",
       "      <td>NaN</td>\n",
       "      <td>0.254</td>\n",
       "    </tr>\n",
       "    <tr>\n",
       "      <th>6</th>\n",
       "      <td>2</td>\n",
       "      <td>1</td>\n",
       "      <td>2.0</td>\n",
       "      <td>9.0</td>\n",
       "      <td>5.0</td>\n",
       "      <td>7.5</td>\n",
       "      <td>10.5</td>\n",
       "      <td>15.0</td>\n",
       "      <td>10.5</td>\n",
       "      <td>16.5</td>\n",
       "      <td>...</td>\n",
       "      <td>0.998333</td>\n",
       "      <td>0.3750</td>\n",
       "      <td>-0.1250</td>\n",
       "      <td>0.3125</td>\n",
       "      <td>0.8750</td>\n",
       "      <td>1.059998</td>\n",
       "      <td>-1.410004</td>\n",
       "      <td>-0.350006</td>\n",
       "      <td>1.059998</td>\n",
       "      <td>1.016</td>\n",
       "    </tr>\n",
       "    <tr>\n",
       "      <th>7</th>\n",
       "      <td>2</td>\n",
       "      <td>6</td>\n",
       "      <td>2.0</td>\n",
       "      <td>26.5</td>\n",
       "      <td>22.5</td>\n",
       "      <td>25.5</td>\n",
       "      <td>31.5</td>\n",
       "      <td>26.5</td>\n",
       "      <td>26.5</td>\n",
       "      <td>28.5</td>\n",
       "      <td>...</td>\n",
       "      <td>1.005000</td>\n",
       "      <td>0.0625</td>\n",
       "      <td>-0.1875</td>\n",
       "      <td>0.2500</td>\n",
       "      <td>0.6875</td>\n",
       "      <td>NaN</td>\n",
       "      <td>NaN</td>\n",
       "      <td>NaN</td>\n",
       "      <td>1.409988</td>\n",
       "      <td>1.016</td>\n",
       "    </tr>\n",
       "    <tr>\n",
       "      <th>8</th>\n",
       "      <td>2</td>\n",
       "      <td>11</td>\n",
       "      <td>2.0</td>\n",
       "      <td>21.5</td>\n",
       "      <td>15.5</td>\n",
       "      <td>20.5</td>\n",
       "      <td>25.0</td>\n",
       "      <td>26.5</td>\n",
       "      <td>23.5</td>\n",
       "      <td>25.0</td>\n",
       "      <td>...</td>\n",
       "      <td>1.001667</td>\n",
       "      <td>0.3125</td>\n",
       "      <td>-0.0625</td>\n",
       "      <td>0.3125</td>\n",
       "      <td>0.6250</td>\n",
       "      <td>0.349991</td>\n",
       "      <td>NaN</td>\n",
       "      <td>-0.350006</td>\n",
       "      <td>1.759994</td>\n",
       "      <td>1.016</td>\n",
       "    </tr>\n",
       "    <tr>\n",
       "      <th>9</th>\n",
       "      <td>2</td>\n",
       "      <td>16</td>\n",
       "      <td>2.0</td>\n",
       "      <td>18.0</td>\n",
       "      <td>14.0</td>\n",
       "      <td>17.5</td>\n",
       "      <td>21.0</td>\n",
       "      <td>20.5</td>\n",
       "      <td>18.0</td>\n",
       "      <td>20.5</td>\n",
       "      <td>...</td>\n",
       "      <td>1.001667</td>\n",
       "      <td>0.2500</td>\n",
       "      <td>0.1250</td>\n",
       "      <td>0.3750</td>\n",
       "      <td>0.6875</td>\n",
       "      <td>0.349991</td>\n",
       "      <td>-1.059998</td>\n",
       "      <td>0.000000</td>\n",
       "      <td>1.059998</td>\n",
       "      <td>1.016</td>\n",
       "    </tr>\n",
       "    <tr>\n",
       "      <th>10</th>\n",
       "      <td>2</td>\n",
       "      <td>21</td>\n",
       "      <td>2.0</td>\n",
       "      <td>24.5</td>\n",
       "      <td>16.5</td>\n",
       "      <td>21.0</td>\n",
       "      <td>24.5</td>\n",
       "      <td>24.5</td>\n",
       "      <td>21.0</td>\n",
       "      <td>24.0</td>\n",
       "      <td>...</td>\n",
       "      <td>0.998333</td>\n",
       "      <td>0.2500</td>\n",
       "      <td>0.0625</td>\n",
       "      <td>0.1875</td>\n",
       "      <td>0.5625</td>\n",
       "      <td>-0.350006</td>\n",
       "      <td>-1.059998</td>\n",
       "      <td>-0.350006</td>\n",
       "      <td>1.759994</td>\n",
       "      <td>1.016</td>\n",
       "    </tr>\n",
       "    <tr>\n",
       "      <th>11</th>\n",
       "      <td>2</td>\n",
       "      <td>26</td>\n",
       "      <td>2.0</td>\n",
       "      <td>12.0</td>\n",
       "      <td>12.0</td>\n",
       "      <td>16.0</td>\n",
       "      <td>20.0</td>\n",
       "      <td>16.5</td>\n",
       "      <td>17.0</td>\n",
       "      <td>19.0</td>\n",
       "      <td>...</td>\n",
       "      <td>0.998333</td>\n",
       "      <td>0.5625</td>\n",
       "      <td>0.2500</td>\n",
       "      <td>0.4375</td>\n",
       "      <td>0.6875</td>\n",
       "      <td>-1.760010</td>\n",
       "      <td>-1.760010</td>\n",
       "      <td>-0.350006</td>\n",
       "      <td>0.709991</td>\n",
       "      <td>1.016</td>\n",
       "    </tr>\n",
       "    <tr>\n",
       "      <th>12</th>\n",
       "      <td>2</td>\n",
       "      <td>31</td>\n",
       "      <td>2.0</td>\n",
       "      <td>22.5</td>\n",
       "      <td>19.0</td>\n",
       "      <td>22.0</td>\n",
       "      <td>25.0</td>\n",
       "      <td>26.0</td>\n",
       "      <td>23.5</td>\n",
       "      <td>25.5</td>\n",
       "      <td>...</td>\n",
       "      <td>1.001667</td>\n",
       "      <td>0.0000</td>\n",
       "      <td>-0.1875</td>\n",
       "      <td>0.2500</td>\n",
       "      <td>0.6250</td>\n",
       "      <td>-1.059998</td>\n",
       "      <td>-2.120010</td>\n",
       "      <td>-0.710007</td>\n",
       "      <td>0.349991</td>\n",
       "      <td>1.016</td>\n",
       "    </tr>\n",
       "    <tr>\n",
       "      <th>13</th>\n",
       "      <td>2</td>\n",
       "      <td>37</td>\n",
       "      <td>2.0</td>\n",
       "      <td>14.0</td>\n",
       "      <td>14.0</td>\n",
       "      <td>18.5</td>\n",
       "      <td>21.0</td>\n",
       "      <td>19.5</td>\n",
       "      <td>20.0</td>\n",
       "      <td>21.0</td>\n",
       "      <td>...</td>\n",
       "      <td>0.998333</td>\n",
       "      <td>0.5000</td>\n",
       "      <td>0.1875</td>\n",
       "      <td>0.4375</td>\n",
       "      <td>0.8125</td>\n",
       "      <td>0.000000</td>\n",
       "      <td>-1.760010</td>\n",
       "      <td>-0.350006</td>\n",
       "      <td>1.059998</td>\n",
       "      <td>1.016</td>\n",
       "    </tr>\n",
       "    <tr>\n",
       "      <th>14</th>\n",
       "      <td>2</td>\n",
       "      <td>42</td>\n",
       "      <td>2.0</td>\n",
       "      <td>12.0</td>\n",
       "      <td>11.0</td>\n",
       "      <td>12.5</td>\n",
       "      <td>17.0</td>\n",
       "      <td>19.5</td>\n",
       "      <td>18.0</td>\n",
       "      <td>21.0</td>\n",
       "      <td>...</td>\n",
       "      <td>0.998333</td>\n",
       "      <td>0.6250</td>\n",
       "      <td>0.3750</td>\n",
       "      <td>0.6250</td>\n",
       "      <td>0.8750</td>\n",
       "      <td>-0.350006</td>\n",
       "      <td>-0.350006</td>\n",
       "      <td>0.000000</td>\n",
       "      <td>0.349991</td>\n",
       "      <td>1.016</td>\n",
       "    </tr>\n",
       "    <tr>\n",
       "      <th>15</th>\n",
       "      <td>2</td>\n",
       "      <td>47</td>\n",
       "      <td>2.0</td>\n",
       "      <td>1.5</td>\n",
       "      <td>3.5</td>\n",
       "      <td>7.0</td>\n",
       "      <td>10.5</td>\n",
       "      <td>18.0</td>\n",
       "      <td>16.5</td>\n",
       "      <td>18.5</td>\n",
       "      <td>...</td>\n",
       "      <td>0.998333</td>\n",
       "      <td>0.3750</td>\n",
       "      <td>0.1875</td>\n",
       "      <td>0.5000</td>\n",
       "      <td>0.6875</td>\n",
       "      <td>0.349991</td>\n",
       "      <td>-2.110001</td>\n",
       "      <td>-0.350006</td>\n",
       "      <td>1.059998</td>\n",
       "      <td>1.016</td>\n",
       "    </tr>\n",
       "    <tr>\n",
       "      <th>16</th>\n",
       "      <td>2</td>\n",
       "      <td>53</td>\n",
       "      <td>2.0</td>\n",
       "      <td>16.0</td>\n",
       "      <td>14.5</td>\n",
       "      <td>18.0</td>\n",
       "      <td>23.5</td>\n",
       "      <td>28.0</td>\n",
       "      <td>23.5</td>\n",
       "      <td>26.5</td>\n",
       "      <td>...</td>\n",
       "      <td>0.998333</td>\n",
       "      <td>0.8750</td>\n",
       "      <td>0.6250</td>\n",
       "      <td>0.9375</td>\n",
       "      <td>1.3750</td>\n",
       "      <td>-0.350006</td>\n",
       "      <td>-1.410004</td>\n",
       "      <td>-0.350006</td>\n",
       "      <td>2.119995</td>\n",
       "      <td>1.016</td>\n",
       "    </tr>\n",
       "    <tr>\n",
       "      <th>17</th>\n",
       "      <td>2</td>\n",
       "      <td>58</td>\n",
       "      <td>2.0</td>\n",
       "      <td>22.0</td>\n",
       "      <td>16.5</td>\n",
       "      <td>22.5</td>\n",
       "      <td>26.5</td>\n",
       "      <td>31.5</td>\n",
       "      <td>26.5</td>\n",
       "      <td>29.0</td>\n",
       "      <td>...</td>\n",
       "      <td>1.001667</td>\n",
       "      <td>0.3750</td>\n",
       "      <td>0.1875</td>\n",
       "      <td>0.3750</td>\n",
       "      <td>0.8750</td>\n",
       "      <td>-1.410004</td>\n",
       "      <td>NaN</td>\n",
       "      <td>-0.350006</td>\n",
       "      <td>0.699997</td>\n",
       "      <td>1.016</td>\n",
       "    </tr>\n",
       "  </tbody>\n",
       "</table>\n",
       "<p>18 rows × 24 columns</p>\n",
       "</div>"
      ],
      "text/plain": [
       "    Id  minutes_past  radardist_km   Ref  Ref_5x5_10th  Ref_5x5_50th  \\\n",
       "0    1             3          10.0   NaN           NaN           NaN   \n",
       "1    1            16          10.0   NaN           NaN           NaN   \n",
       "2    1            25          10.0   NaN           NaN           NaN   \n",
       "3    1            35          10.0   NaN           NaN           NaN   \n",
       "4    1            45          10.0   NaN           NaN           NaN   \n",
       "5    1            55          10.0   NaN           NaN           NaN   \n",
       "6    2             1           2.0   9.0           5.0           7.5   \n",
       "7    2             6           2.0  26.5          22.5          25.5   \n",
       "8    2            11           2.0  21.5          15.5          20.5   \n",
       "9    2            16           2.0  18.0          14.0          17.5   \n",
       "10   2            21           2.0  24.5          16.5          21.0   \n",
       "11   2            26           2.0  12.0          12.0          16.0   \n",
       "12   2            31           2.0  22.5          19.0          22.0   \n",
       "13   2            37           2.0  14.0          14.0          18.5   \n",
       "14   2            42           2.0  12.0          11.0          12.5   \n",
       "15   2            47           2.0   1.5           3.5           7.0   \n",
       "16   2            53           2.0  16.0          14.5          18.0   \n",
       "17   2            58           2.0  22.0          16.5          22.5   \n",
       "\n",
       "    Ref_5x5_90th  RefComposite  RefComposite_5x5_10th  RefComposite_5x5_50th  \\\n",
       "0            NaN           NaN                    NaN                    NaN   \n",
       "1            NaN           NaN                    NaN                    NaN   \n",
       "2            NaN           NaN                    NaN                    NaN   \n",
       "3            NaN           NaN                    NaN                    NaN   \n",
       "4            NaN           NaN                    NaN                    NaN   \n",
       "5            NaN           NaN                    NaN                    NaN   \n",
       "6           10.5          15.0                   10.5                   16.5   \n",
       "7           31.5          26.5                   26.5                   28.5   \n",
       "8           25.0          26.5                   23.5                   25.0   \n",
       "9           21.0          20.5                   18.0                   20.5   \n",
       "10          24.5          24.5                   21.0                   24.0   \n",
       "11          20.0          16.5                   17.0                   19.0   \n",
       "12          25.0          26.0                   23.5                   25.5   \n",
       "13          21.0          19.5                   20.0                   21.0   \n",
       "14          17.0          19.5                   18.0                   21.0   \n",
       "15          10.5          18.0                   16.5                   18.5   \n",
       "16          23.5          28.0                   23.5                   26.5   \n",
       "17          26.5          31.5                   26.5                   29.0   \n",
       "\n",
       "      ...     RhoHV_5x5_90th     Zdr  Zdr_5x5_10th  Zdr_5x5_50th  \\\n",
       "0     ...                NaN     NaN           NaN           NaN   \n",
       "1     ...                NaN     NaN           NaN           NaN   \n",
       "2     ...                NaN     NaN           NaN           NaN   \n",
       "3     ...                NaN     NaN           NaN           NaN   \n",
       "4     ...                NaN     NaN           NaN           NaN   \n",
       "5     ...                NaN     NaN           NaN           NaN   \n",
       "6     ...           0.998333  0.3750       -0.1250        0.3125   \n",
       "7     ...           1.005000  0.0625       -0.1875        0.2500   \n",
       "8     ...           1.001667  0.3125       -0.0625        0.3125   \n",
       "9     ...           1.001667  0.2500        0.1250        0.3750   \n",
       "10    ...           0.998333  0.2500        0.0625        0.1875   \n",
       "11    ...           0.998333  0.5625        0.2500        0.4375   \n",
       "12    ...           1.001667  0.0000       -0.1875        0.2500   \n",
       "13    ...           0.998333  0.5000        0.1875        0.4375   \n",
       "14    ...           0.998333  0.6250        0.3750        0.6250   \n",
       "15    ...           0.998333  0.3750        0.1875        0.5000   \n",
       "16    ...           0.998333  0.8750        0.6250        0.9375   \n",
       "17    ...           1.001667  0.3750        0.1875        0.3750   \n",
       "\n",
       "    Zdr_5x5_90th       Kdp  Kdp_5x5_10th  Kdp_5x5_50th  Kdp_5x5_90th  Expected  \n",
       "0            NaN       NaN           NaN           NaN           NaN     0.254  \n",
       "1            NaN       NaN           NaN           NaN           NaN     0.254  \n",
       "2            NaN       NaN           NaN           NaN           NaN     0.254  \n",
       "3            NaN       NaN           NaN           NaN           NaN     0.254  \n",
       "4            NaN       NaN           NaN           NaN           NaN     0.254  \n",
       "5            NaN       NaN           NaN           NaN           NaN     0.254  \n",
       "6         0.8750  1.059998     -1.410004     -0.350006      1.059998     1.016  \n",
       "7         0.6875       NaN           NaN           NaN      1.409988     1.016  \n",
       "8         0.6250  0.349991           NaN     -0.350006      1.759994     1.016  \n",
       "9         0.6875  0.349991     -1.059998      0.000000      1.059998     1.016  \n",
       "10        0.5625 -0.350006     -1.059998     -0.350006      1.759994     1.016  \n",
       "11        0.6875 -1.760010     -1.760010     -0.350006      0.709991     1.016  \n",
       "12        0.6250 -1.059998     -2.120010     -0.710007      0.349991     1.016  \n",
       "13        0.8125  0.000000     -1.760010     -0.350006      1.059998     1.016  \n",
       "14        0.8750 -0.350006     -0.350006      0.000000      0.349991     1.016  \n",
       "15        0.6875  0.349991     -2.110001     -0.350006      1.059998     1.016  \n",
       "16        1.3750 -0.350006     -1.410004     -0.350006      2.119995     1.016  \n",
       "17        0.8750 -1.410004           NaN     -0.350006      0.699997     1.016  \n",
       "\n",
       "[18 rows x 24 columns]"
      ]
     },
     "execution_count": 220,
     "metadata": {},
     "output_type": "execute_result"
    }
   ],
   "source": [
    "df.head(18)  # The first 18 rows contain all measurements for Id's 1 and 2."
   ]
  },
  {
   "cell_type": "markdown",
   "metadata": {},
   "source": [
    "I'm having trouble letting the network converge, so let's just see if we can learn one sequence:"
   ]
  },
  {
   "cell_type": "code",
   "execution_count": 223,
   "metadata": {},
   "outputs": [],
   "source": [
    "df = df[6:17]"
   ]
  },
  {
   "cell_type": "markdown",
   "metadata": {},
   "source": [
    "This results in a final score of:\n",
    "\n",
    "```\n",
    "Final MAE: 0.534888\n",
    "```\n",
    "\n",
    "Is that good? The model did seem to learn."
   ]
  },
  {
   "cell_type": "code",
   "execution_count": 224,
   "metadata": {},
   "outputs": [
    {
     "data": {
      "text/plain": [
       "(5, 24)"
      ]
     },
     "execution_count": 224,
     "metadata": {},
     "output_type": "execute_result"
    }
   ],
   "source": [
    "df.shape"
   ]
  },
  {
   "cell_type": "code",
   "execution_count": 225,
   "metadata": {
    "scrolled": true
   },
   "outputs": [
    {
     "data": {
      "text/html": [
       "<div>\n",
       "<style>\n",
       "    .dataframe thead tr:only-child th {\n",
       "        text-align: right;\n",
       "    }\n",
       "\n",
       "    .dataframe thead th {\n",
       "        text-align: left;\n",
       "    }\n",
       "\n",
       "    .dataframe tbody tr th {\n",
       "        vertical-align: top;\n",
       "    }\n",
       "</style>\n",
       "<table border=\"1\" class=\"dataframe\">\n",
       "  <thead>\n",
       "    <tr style=\"text-align: right;\">\n",
       "      <th></th>\n",
       "      <th>Id</th>\n",
       "      <th>minutes_past</th>\n",
       "      <th>radardist_km</th>\n",
       "      <th>Ref</th>\n",
       "      <th>Ref_5x5_10th</th>\n",
       "      <th>Ref_5x5_50th</th>\n",
       "      <th>Ref_5x5_90th</th>\n",
       "      <th>RefComposite</th>\n",
       "      <th>RefComposite_5x5_10th</th>\n",
       "      <th>RefComposite_5x5_50th</th>\n",
       "      <th>...</th>\n",
       "      <th>RhoHV_5x5_90th</th>\n",
       "      <th>Zdr</th>\n",
       "      <th>Zdr_5x5_10th</th>\n",
       "      <th>Zdr_5x5_50th</th>\n",
       "      <th>Zdr_5x5_90th</th>\n",
       "      <th>Kdp</th>\n",
       "      <th>Kdp_5x5_10th</th>\n",
       "      <th>Kdp_5x5_50th</th>\n",
       "      <th>Kdp_5x5_90th</th>\n",
       "      <th>Expected</th>\n",
       "    </tr>\n",
       "  </thead>\n",
       "  <tbody>\n",
       "    <tr>\n",
       "      <th>count</th>\n",
       "      <td>5.0</td>\n",
       "      <td>5.000000</td>\n",
       "      <td>5.0</td>\n",
       "      <td>5.000000</td>\n",
       "      <td>5.000000</td>\n",
       "      <td>5.000000</td>\n",
       "      <td>5.000000</td>\n",
       "      <td>5.000000</td>\n",
       "      <td>5.000000</td>\n",
       "      <td>5.000000</td>\n",
       "      <td>...</td>\n",
       "      <td>5.000000</td>\n",
       "      <td>5.000000</td>\n",
       "      <td>5.000000</td>\n",
       "      <td>5.00000</td>\n",
       "      <td>5.000000</td>\n",
       "      <td>5.000000</td>\n",
       "      <td>5.000000</td>\n",
       "      <td>5.000000</td>\n",
       "      <td>5.000000</td>\n",
       "      <td>5.000</td>\n",
       "    </tr>\n",
       "    <tr>\n",
       "      <th>mean</th>\n",
       "      <td>2.0</td>\n",
       "      <td>42.000000</td>\n",
       "      <td>2.0</td>\n",
       "      <td>13.200000</td>\n",
       "      <td>12.400000</td>\n",
       "      <td>15.600000</td>\n",
       "      <td>19.400000</td>\n",
       "      <td>22.200000</td>\n",
       "      <td>20.300000</td>\n",
       "      <td>22.500000</td>\n",
       "      <td>...</td>\n",
       "      <td>0.999000</td>\n",
       "      <td>0.475000</td>\n",
       "      <td>0.237500</td>\n",
       "      <td>0.55000</td>\n",
       "      <td>0.875000</td>\n",
       "      <td>-0.282004</td>\n",
       "      <td>-1.550006</td>\n",
       "      <td>-0.352005</td>\n",
       "      <td>0.987994</td>\n",
       "      <td>1.016</td>\n",
       "    </tr>\n",
       "    <tr>\n",
       "      <th>std</th>\n",
       "      <td>0.0</td>\n",
       "      <td>8.544004</td>\n",
       "      <td>0.0</td>\n",
       "      <td>7.637081</td>\n",
       "      <td>5.738031</td>\n",
       "      <td>5.888548</td>\n",
       "      <td>5.824517</td>\n",
       "      <td>4.480513</td>\n",
       "      <td>3.174114</td>\n",
       "      <td>3.372684</td>\n",
       "      <td>...</td>\n",
       "      <td>0.001491</td>\n",
       "      <td>0.323554</td>\n",
       "      <td>0.297778</td>\n",
       "      <td>0.25541</td>\n",
       "      <td>0.296464</td>\n",
       "      <td>0.522845</td>\n",
       "      <td>0.731813</td>\n",
       "      <td>0.251040</td>\n",
       "      <td>0.725584</td>\n",
       "      <td>0.000</td>\n",
       "    </tr>\n",
       "    <tr>\n",
       "      <th>min</th>\n",
       "      <td>2.0</td>\n",
       "      <td>31.000000</td>\n",
       "      <td>2.0</td>\n",
       "      <td>1.500000</td>\n",
       "      <td>3.500000</td>\n",
       "      <td>7.000000</td>\n",
       "      <td>10.500000</td>\n",
       "      <td>18.000000</td>\n",
       "      <td>16.500000</td>\n",
       "      <td>18.500000</td>\n",
       "      <td>...</td>\n",
       "      <td>0.998333</td>\n",
       "      <td>0.000000</td>\n",
       "      <td>-0.187500</td>\n",
       "      <td>0.25000</td>\n",
       "      <td>0.625000</td>\n",
       "      <td>-1.059998</td>\n",
       "      <td>-2.120010</td>\n",
       "      <td>-0.710007</td>\n",
       "      <td>0.349991</td>\n",
       "      <td>1.016</td>\n",
       "    </tr>\n",
       "    <tr>\n",
       "      <th>25%</th>\n",
       "      <td>2.0</td>\n",
       "      <td>37.000000</td>\n",
       "      <td>2.0</td>\n",
       "      <td>12.000000</td>\n",
       "      <td>11.000000</td>\n",
       "      <td>12.500000</td>\n",
       "      <td>17.000000</td>\n",
       "      <td>19.500000</td>\n",
       "      <td>18.000000</td>\n",
       "      <td>21.000000</td>\n",
       "      <td>...</td>\n",
       "      <td>0.998333</td>\n",
       "      <td>0.375000</td>\n",
       "      <td>0.187500</td>\n",
       "      <td>0.43750</td>\n",
       "      <td>0.687500</td>\n",
       "      <td>-0.350006</td>\n",
       "      <td>-2.110001</td>\n",
       "      <td>-0.350006</td>\n",
       "      <td>0.349991</td>\n",
       "      <td>1.016</td>\n",
       "    </tr>\n",
       "    <tr>\n",
       "      <th>50%</th>\n",
       "      <td>2.0</td>\n",
       "      <td>42.000000</td>\n",
       "      <td>2.0</td>\n",
       "      <td>14.000000</td>\n",
       "      <td>14.000000</td>\n",
       "      <td>18.000000</td>\n",
       "      <td>21.000000</td>\n",
       "      <td>19.500000</td>\n",
       "      <td>20.000000</td>\n",
       "      <td>21.000000</td>\n",
       "      <td>...</td>\n",
       "      <td>0.998333</td>\n",
       "      <td>0.500000</td>\n",
       "      <td>0.187500</td>\n",
       "      <td>0.50000</td>\n",
       "      <td>0.812500</td>\n",
       "      <td>-0.350006</td>\n",
       "      <td>-1.760010</td>\n",
       "      <td>-0.350006</td>\n",
       "      <td>1.059998</td>\n",
       "      <td>1.016</td>\n",
       "    </tr>\n",
       "    <tr>\n",
       "      <th>75%</th>\n",
       "      <td>2.0</td>\n",
       "      <td>47.000000</td>\n",
       "      <td>2.0</td>\n",
       "      <td>16.000000</td>\n",
       "      <td>14.500000</td>\n",
       "      <td>18.500000</td>\n",
       "      <td>23.500000</td>\n",
       "      <td>26.000000</td>\n",
       "      <td>23.500000</td>\n",
       "      <td>25.500000</td>\n",
       "      <td>...</td>\n",
       "      <td>0.998333</td>\n",
       "      <td>0.625000</td>\n",
       "      <td>0.375000</td>\n",
       "      <td>0.62500</td>\n",
       "      <td>0.875000</td>\n",
       "      <td>0.000000</td>\n",
       "      <td>-1.410004</td>\n",
       "      <td>-0.350006</td>\n",
       "      <td>1.059998</td>\n",
       "      <td>1.016</td>\n",
       "    </tr>\n",
       "    <tr>\n",
       "      <th>max</th>\n",
       "      <td>2.0</td>\n",
       "      <td>53.000000</td>\n",
       "      <td>2.0</td>\n",
       "      <td>22.500000</td>\n",
       "      <td>19.000000</td>\n",
       "      <td>22.000000</td>\n",
       "      <td>25.000000</td>\n",
       "      <td>28.000000</td>\n",
       "      <td>23.500000</td>\n",
       "      <td>26.500000</td>\n",
       "      <td>...</td>\n",
       "      <td>1.001667</td>\n",
       "      <td>0.875000</td>\n",
       "      <td>0.625000</td>\n",
       "      <td>0.93750</td>\n",
       "      <td>1.375000</td>\n",
       "      <td>0.349991</td>\n",
       "      <td>-0.350006</td>\n",
       "      <td>0.000000</td>\n",
       "      <td>2.119995</td>\n",
       "      <td>1.016</td>\n",
       "    </tr>\n",
       "  </tbody>\n",
       "</table>\n",
       "<p>8 rows × 24 columns</p>\n",
       "</div>"
      ],
      "text/plain": [
       "        Id  minutes_past  radardist_km        Ref  Ref_5x5_10th  Ref_5x5_50th  \\\n",
       "count  5.0      5.000000           5.0   5.000000      5.000000      5.000000   \n",
       "mean   2.0     42.000000           2.0  13.200000     12.400000     15.600000   \n",
       "std    0.0      8.544004           0.0   7.637081      5.738031      5.888548   \n",
       "min    2.0     31.000000           2.0   1.500000      3.500000      7.000000   \n",
       "25%    2.0     37.000000           2.0  12.000000     11.000000     12.500000   \n",
       "50%    2.0     42.000000           2.0  14.000000     14.000000     18.000000   \n",
       "75%    2.0     47.000000           2.0  16.000000     14.500000     18.500000   \n",
       "max    2.0     53.000000           2.0  22.500000     19.000000     22.000000   \n",
       "\n",
       "       Ref_5x5_90th  RefComposite  RefComposite_5x5_10th  \\\n",
       "count      5.000000      5.000000               5.000000   \n",
       "mean      19.400000     22.200000              20.300000   \n",
       "std        5.824517      4.480513               3.174114   \n",
       "min       10.500000     18.000000              16.500000   \n",
       "25%       17.000000     19.500000              18.000000   \n",
       "50%       21.000000     19.500000              20.000000   \n",
       "75%       23.500000     26.000000              23.500000   \n",
       "max       25.000000     28.000000              23.500000   \n",
       "\n",
       "       RefComposite_5x5_50th    ...     RhoHV_5x5_90th       Zdr  \\\n",
       "count               5.000000    ...           5.000000  5.000000   \n",
       "mean               22.500000    ...           0.999000  0.475000   \n",
       "std                 3.372684    ...           0.001491  0.323554   \n",
       "min                18.500000    ...           0.998333  0.000000   \n",
       "25%                21.000000    ...           0.998333  0.375000   \n",
       "50%                21.000000    ...           0.998333  0.500000   \n",
       "75%                25.500000    ...           0.998333  0.625000   \n",
       "max                26.500000    ...           1.001667  0.875000   \n",
       "\n",
       "       Zdr_5x5_10th  Zdr_5x5_50th  Zdr_5x5_90th       Kdp  Kdp_5x5_10th  \\\n",
       "count      5.000000       5.00000      5.000000  5.000000      5.000000   \n",
       "mean       0.237500       0.55000      0.875000 -0.282004     -1.550006   \n",
       "std        0.297778       0.25541      0.296464  0.522845      0.731813   \n",
       "min       -0.187500       0.25000      0.625000 -1.059998     -2.120010   \n",
       "25%        0.187500       0.43750      0.687500 -0.350006     -2.110001   \n",
       "50%        0.187500       0.50000      0.812500 -0.350006     -1.760010   \n",
       "75%        0.375000       0.62500      0.875000  0.000000     -1.410004   \n",
       "max        0.625000       0.93750      1.375000  0.349991     -0.350006   \n",
       "\n",
       "       Kdp_5x5_50th  Kdp_5x5_90th  Expected  \n",
       "count      5.000000      5.000000     5.000  \n",
       "mean      -0.352005      0.987994     1.016  \n",
       "std        0.251040      0.725584     0.000  \n",
       "min       -0.710007      0.349991     1.016  \n",
       "25%       -0.350006      0.349991     1.016  \n",
       "50%       -0.350006      1.059998     1.016  \n",
       "75%       -0.350006      1.059998     1.016  \n",
       "max        0.000000      2.119995     1.016  \n",
       "\n",
       "[8 rows x 24 columns]"
      ]
     },
     "execution_count": 225,
     "metadata": {},
     "output_type": "execute_result"
    }
   ],
   "source": [
    "df.describe()"
   ]
  },
  {
   "cell_type": "code",
   "execution_count": 226,
   "metadata": {},
   "outputs": [
    {
     "name": "stdout",
     "output_type": "stream",
     "text": [
      "<class 'pandas.core.frame.DataFrame'>\n",
      "RangeIndex: 5 entries, 12 to 16\n",
      "Data columns (total 24 columns):\n",
      "Id                       5 non-null int64\n",
      "minutes_past             5 non-null int64\n",
      "radardist_km             5 non-null float64\n",
      "Ref                      5 non-null float64\n",
      "Ref_5x5_10th             5 non-null float64\n",
      "Ref_5x5_50th             5 non-null float64\n",
      "Ref_5x5_90th             5 non-null float64\n",
      "RefComposite             5 non-null float64\n",
      "RefComposite_5x5_10th    5 non-null float64\n",
      "RefComposite_5x5_50th    5 non-null float64\n",
      "RefComposite_5x5_90th    5 non-null float64\n",
      "RhoHV                    5 non-null float64\n",
      "RhoHV_5x5_10th           5 non-null float64\n",
      "RhoHV_5x5_50th           5 non-null float64\n",
      "RhoHV_5x5_90th           5 non-null float64\n",
      "Zdr                      5 non-null float64\n",
      "Zdr_5x5_10th             5 non-null float64\n",
      "Zdr_5x5_50th             5 non-null float64\n",
      "Zdr_5x5_90th             5 non-null float64\n",
      "Kdp                      5 non-null float64\n",
      "Kdp_5x5_10th             5 non-null float64\n",
      "Kdp_5x5_50th             5 non-null float64\n",
      "Kdp_5x5_90th             5 non-null float64\n",
      "Expected                 5 non-null float64\n",
      "dtypes: float64(22), int64(2)\n",
      "memory usage: 1.0 KB\n"
     ]
    }
   ],
   "source": [
    "df.info()"
   ]
  },
  {
   "cell_type": "markdown",
   "metadata": {},
   "source": [
    "We have 24 columns, of which one is the Id of the group of measurements falling in the same hour, and one is the Exptected value. So in effect we are left with **22 features**."
   ]
  },
  {
   "cell_type": "markdown",
   "metadata": {},
   "source": [
    "## Frame the problem"
   ]
  },
  {
   "cell_type": "markdown",
   "metadata": {},
   "source": [
    "From Kaggle:\n",
    "\n",
    "> You are given snapshots of polarimetric radar values and asked to predict the hourly rain gauge total.\n",
    "\n",
    "So we have a **regression** problem here, a **multivariate** one at that, since we have more than one input.\n",
    "\n",
    "> To understand the data, you have to realize that there are multiple radar observations over the course of an hour, and only one gauge observation (the 'Expected').\n",
    "\n",
    "It is a **supervised learning** task, since the _target_ or _label_ is provided for us. And since each instance consists of multiple observations over the course of an hour, each instance is a time series and drives us to looking into Recurrent Neural Networks (RNN).\n",
    "\n",
    "> The evaluation metric for this competition is Mean Absolute Error (MAE)\n",
    "\n",
    "Ok, that's a given. The MAE is defined as:\n",
    "\n",
    "\\begin{equation*}\n",
    "MAE = \\frac{1}{m} \\sum_{i=1}^{m} \\vert y_{i} - \\hat{y_{i}} \\vert\n",
    "\\end{equation*}\n",
    "\n",
    "Note:\n",
    "\n",
    "> A word of caution: many of the gauge values in the training dataset are implausible (gauges may get clogged, for example)\n",
    "\n",
    "We'll have to see whether we can leave these values in or whether we'll have to first find a way to filter them out."
   ]
  },
  {
   "cell_type": "markdown",
   "metadata": {},
   "source": [
    "## Visualize the data"
   ]
  },
  {
   "cell_type": "code",
   "execution_count": 227,
   "metadata": {},
   "outputs": [
    {
     "data": {
      "image/png": "[encoded data removed]",
      "text/plain": [
       "<matplotlib.figure.Figure at 0x15a4b7c88>"
      ]
     },
     "metadata": {},
     "output_type": "display_data"
    }
   ],
   "source": [
    "%matplotlib inline\n",
    "df.hist(bins=50, figsize=(20,15))\n",
    "plt.show()"
   ]
  },
  {
   "cell_type": "markdown",
   "metadata": {},
   "source": [
    "## Prepare the data"
   ]
  },
  {
   "cell_type": "markdown",
   "metadata": {},
   "source": [
    "The distribution of expected rain in milimeters seems off, as warned about. The maximum value of about 30,000 millimeters means that _30 meters_ of rain would have fallen in that hour. Better call Noah to build us a boat..."
   ]
  },
  {
   "cell_type": "code",
   "execution_count": 228,
   "metadata": {},
   "outputs": [
    {
     "data": {
      "image/png": "[encoded data removed]",
      "text/plain": [
       "<matplotlib.figure.Figure at 0x11f05dbe0>"
      ]
     },
     "metadata": {},
     "output_type": "display_data"
    }
   ],
   "source": [
    "df['Expected'].hist(bins=50)\n",
    "plt.show()"
   ]
  },
  {
   "cell_type": "markdown",
   "metadata": {},
   "source": [
    "Since there are multiple radar observations per hour, and all of these have the same values for Id and Expected, we can first simplify the histogram by taking only the first Expected value (`head(1)`) per Id (`groupby('Id')`) into account. That is what we do here:"
   ]
  },
  {
   "cell_type": "code",
   "execution_count": 229,
   "metadata": {},
   "outputs": [
    {
     "name": "stderr",
     "output_type": "stream",
     "text": [
      "/usr/local/lib/python3.6/site-packages/matplotlib/axes/_base.py:3193: UserWarning: Attempting to set identical bottom==top results\n",
      "in singular transformations; automatically expanding.\n",
      "bottom=1.0, top=1.0\n",
      "  'bottom=%s, top=%s') % (bottom, top))\n"
     ]
    },
    {
     "data": {
      "image/png": "[encoded data removed]",
      "text/plain": [
       "<matplotlib.figure.Figure at 0x1341a5a58>"
      ]
     },
     "metadata": {},
     "output_type": "display_data"
    }
   ],
   "source": [
    "# Plot it logarithmically so that we can still make out Expected values\n",
    "# that do not occur that often.\n",
    "_, ax = plt.subplots()\n",
    "df.groupby('Id').head(1)['Expected'].hist(ax=ax, bins=300,figsize=(20,5))\n",
    "ax.set_yscale('log')\n",
    "plt.show()"
   ]
  },
  {
   "cell_type": "markdown",
   "metadata": {},
   "source": [
    "We can see that the largest peak in expected rain is close to zero mm's, and that the majority of rain is less than 5,000 mm per hour. This is still five meters of rain, but maybe that's realistic, I have no idea.\n",
    "\n",
    "This is followed by some lone wolves of more than 5,000 mm of rain per hour. Since these values are so dispersed over the range, it is likely these our outliers caused by clogged gauges, and we can simply discard these measurements."
   ]
  },
  {
   "cell_type": "code",
   "execution_count": 230,
   "metadata": {
    "collapsed": true
   },
   "outputs": [],
   "source": [
    "df = df[df['Expected'] < 5000]"
   ]
  },
  {
   "cell_type": "markdown",
   "metadata": {},
   "source": [
    "Some cells have no values (\"NaN\", or Not a Number). There are [various ways](http://pandas.pydata.org/pandas-docs/stable/missing_data.html) we can handle missing data.\n",
    "\n",
    "The simplest thing to do would be to discard instances containing one or more of such cells, but if there are quite many of them, then maybe we want to keep them but replace them by, for instance, the median across all those cells.\n",
    "\n",
    "How many rows have at least one NaN?"
   ]
  },
  {
   "cell_type": "code",
   "execution_count": 231,
   "metadata": {},
   "outputs": [
    {
     "data": {
      "text/plain": [
       "0"
      ]
     },
     "execution_count": 231,
     "metadata": {},
     "output_type": "execute_result"
    }
   ],
   "source": [
    "df.isnull().any(axis=1).sum()"
   ]
  },
  {
   "cell_type": "markdown",
   "metadata": {},
   "source": [
    "So 10,995,356 out of 13,765,201 rows have at least one NaN. Throwing away such rows completely is therefore out of the question. Yes, we'd still have some 3,000,000 rows of data, but we'd also throw away some 80% of the training set.\n",
    "\n",
    "Let's simply replace such NaN values by the **mean** of their columns:"
   ]
  },
  {
   "cell_type": "code",
   "execution_count": 232,
   "metadata": {
    "collapsed": true
   },
   "outputs": [],
   "source": [
    "df = df.fillna(df.mean())"
   ]
  },
  {
   "cell_type": "markdown",
   "metadata": {},
   "source": [
    "## Feature Scaling"
   ]
  },
  {
   "cell_type": "markdown",
   "metadata": {},
   "source": [
    "Let's look at the spread of the features we have:"
   ]
  },
  {
   "cell_type": "code",
   "execution_count": 233,
   "metadata": {},
   "outputs": [
    {
     "name": "stdout",
     "output_type": "stream",
     "text": [
      "Kdp                          -1.060     0.350\n",
      "Kdp_5x5_10th                 -2.120    -0.350\n",
      "Kdp_5x5_50th                 -0.710     0.000\n",
      "Kdp_5x5_90th                  0.350     2.120\n",
      "Ref                           1.500    22.500\n",
      "RefComposite                 18.000    28.000\n",
      "RefComposite_5x5_10th        16.500    23.500\n",
      "RefComposite_5x5_50th        18.500    26.500\n",
      "RefComposite_5x5_90th        21.500    29.500\n",
      "Ref_5x5_10th                  3.500    19.000\n",
      "Ref_5x5_50th                  7.000    22.000\n",
      "Ref_5x5_90th                 10.500    25.000\n",
      "RhoHV                         0.998     0.998\n",
      "RhoHV_5x5_10th                0.992     0.995\n",
      "RhoHV_5x5_50th                0.998     0.998\n",
      "RhoHV_5x5_90th                0.998     1.002\n",
      "Zdr                           0.000     0.875\n",
      "Zdr_5x5_10th                 -0.188     0.625\n",
      "Zdr_5x5_50th                  0.250     0.938\n",
      "Zdr_5x5_90th                  0.625     1.375\n",
      "minutes_past                 31.000    53.000\n",
      "radardist_km                  2.000     2.000\n"
     ]
    }
   ],
   "source": [
    "for column in df.columns.difference(['Id', 'Expected']):\n",
    "    print('{:<25}  {:8.3f}  {:8.3f}'.format(\n",
    "        column,\n",
    "        df[column].min(),\n",
    "        df[column].max()))"
   ]
  },
  {
   "cell_type": "markdown",
   "metadata": {
    "collapsed": true
   },
   "source": [
    "They are spread quite a bit, with Kdp from -96 to +179, and RhoHV from 0.2 to 1, for example. We'll need to scale them:"
   ]
  },
  {
   "cell_type": "code",
   "execution_count": 234,
   "metadata": {},
   "outputs": [],
   "source": [
    "columns_to_scale = df.columns.difference(['Id', 'Expected'])\n",
    "\n",
    "# First attempt: min-max scaling. Network did not learn, so maybe that's the\n",
    "# problem. Now trying standard scaling instead.\n",
    "# df[columns_to_scale] = MinMaxScaler().fit_transform(df[columns_to_scale])\n",
    "\n",
    "df[columns_to_scale] = StandardScaler().fit_transform(df[columns_to_scale])"
   ]
  },
  {
   "cell_type": "markdown",
   "metadata": {},
   "source": [
    "Did it work?"
   ]
  },
  {
   "cell_type": "code",
   "execution_count": 235,
   "metadata": {},
   "outputs": [
    {
     "name": "stdout",
     "output_type": "stream",
     "text": [
      "Kdp                          -1.664     1.351\n",
      "Kdp_5x5_10th                 -0.871     1.833\n",
      "Kdp_5x5_50th                 -1.594     1.568\n",
      "Kdp_5x5_90th                 -0.983     1.744\n",
      "Ref                          -1.713     1.361\n",
      "RefComposite                 -1.048     1.447\n",
      "RefComposite_5x5_10th        -1.338     1.127\n",
      "RefComposite_5x5_50th        -1.326     1.326\n",
      "RefComposite_5x5_90th        -1.113     1.505\n",
      "Ref_5x5_10th                 -1.734     1.286\n",
      "Ref_5x5_50th                 -1.633     1.215\n",
      "Ref_5x5_90th                 -1.708     1.075\n",
      "RhoHV                         0.000     0.000\n",
      "RhoHV_5x5_10th               -1.225     0.816\n",
      "RhoHV_5x5_50th                0.000     0.000\n",
      "RhoHV_5x5_90th               -0.500     2.000\n",
      "Zdr                          -1.641     1.382\n",
      "Zdr_5x5_10th                 -1.596     1.455\n",
      "Zdr_5x5_50th                 -1.313     1.696\n",
      "Zdr_5x5_90th                 -0.943     1.886\n",
      "minutes_past                 -1.439     1.439\n",
      "radardist_km                  0.000     0.000\n"
     ]
    }
   ],
   "source": [
    "for column in columns_to_scale:\n",
    "    print('{:<25}  {:8.3f}  {:8.3f}'.format(\n",
    "        column,\n",
    "        df[column].min(),\n",
    "        df[column].max()))"
   ]
  },
  {
   "cell_type": "markdown",
   "metadata": {},
   "source": [
    "## Sequence Length"
   ]
  },
  {
   "cell_type": "markdown",
   "metadata": {},
   "source": [
    "Remember that radar measurements are taken a number of times per hour, and all these together carry the same Id. One such group makes up a **time-series** for our recurrent network.\n",
    "\n",
    "Let's look at the distribution of the lenghts of these time series:"
   ]
  },
  {
   "cell_type": "code",
   "execution_count": 236,
   "metadata": {},
   "outputs": [
    {
     "data": {
      "text/plain": [
       "<matplotlib.axes._subplots.AxesSubplot at 0x135d7ef28>"
      ]
     },
     "execution_count": 236,
     "metadata": {},
     "output_type": "execute_result"
    },
    {
     "data": {
      "image/png": "[encoded data removed]",
      "text/plain": [
       "<matplotlib.figure.Figure at 0x135da1f60>"
      ]
     },
     "metadata": {},
     "output_type": "display_data"
    }
   ],
   "source": [
    "group_sizes = df.groupby('Id').size()\n",
    "group_sizes.hist(bins=20)"
   ]
  },
  {
   "cell_type": "code",
   "execution_count": 237,
   "metadata": {},
   "outputs": [
    {
     "data": {
      "text/plain": [
       "(5, 5)"
      ]
     },
     "execution_count": 237,
     "metadata": {},
     "output_type": "execute_result"
    }
   ],
   "source": [
    "group_sizes.min(), group_sizes.max()"
   ]
  },
  {
   "cell_type": "markdown",
   "metadata": {},
   "source": [
    "So some hourly groups consist of only one sample, and some as many as 19. This means our time series will be of variable length and we'll have to take care of this."
   ]
  },
  {
   "cell_type": "markdown",
   "metadata": {},
   "source": [
    "## Batching Pandas DataFrame into TensorFlow"
   ]
  },
  {
   "cell_type": "markdown",
   "metadata": {},
   "source": [
    "All training and test data is contained in a Pandas DataFrame referenced by `df`. To train our model in TensorFlow, we'll have to extract the features (aka _predictors_ or simply the columns) as well as the labels (or _targets_)."
   ]
  },
  {
   "cell_type": "code",
   "execution_count": 269,
   "metadata": {
    "collapsed": true
   },
   "outputs": [],
   "source": [
    "class Sequence:\n",
    "    def __init__(self, first_row, last_row=None):\n",
    "        self.first_row = first_row\n",
    "        self.last_row  = first_row if last_row is None else last_row\n",
    "    \n",
    "    def length(self):\n",
    "        return self.last_row - self.first_row + 1\n",
    "    \n",
    "class Batcher:\n",
    "    def __init__(self, df, batch_size=50):\n",
    "        self._df                  = df\n",
    "        self._batch_size          = batch_size\n",
    "        self._sequences           = self.group_measurements()\n",
    "        self._sequence_order      = list(self._sequences.keys())\n",
    "        self._curr_sequence_index = 0\n",
    "        self._max_sequence_length = self.max_sequence_length()\n",
    "        \n",
    "        self.reset()\n",
    "\n",
    "    def max_sequence_length(self):\n",
    "        seq = max(list(self._sequences.values()), key=lambda x: x.length())\n",
    "        return seq.length()\n",
    "\n",
    "    def feature_count(self):\n",
    "        (_rows, columns) = df.shape\n",
    "        return columns - 2  # Id and Expected are no features.\n",
    "\n",
    "    def group_measurements(self):\n",
    "        d = dict()\n",
    "        for idx, group_id in df['Id'].iteritems():\n",
    "            if not group_id in d.keys():\n",
    "                d[group_id] = Sequence(first_row=idx)\n",
    "            else:\n",
    "                d[group_id].last_row = idx\n",
    "        return d\n",
    "\n",
    "    def reset(self):\n",
    "        \"\"\"Shuffles all sequences and starts over.\"\"\"\n",
    "        random.shuffle(self._sequence_order)\n",
    "        self._curr_sequence_index = 0\n",
    "\n",
    "    def next_batch(self):\n",
    "        \"\"\"Returns a (lengths, sequences, labels) tuple where each item is of\n",
    "        length batch_size and lengths[i] indicates the effective length of\n",
    "        sequences[i] (the remainder being zeros, and labels[i] is the sequence's\n",
    "        target value.\"\"\"\n",
    "        \n",
    "        lengths, sequences, labels = [], [], []\n",
    "        \n",
    "        n_sequences_left = len(self._sequences) - self._curr_sequence_index\n",
    "        for i in range(min(self._batch_size, n_sequences_left)):\n",
    "            s = self._sequences[self._sequence_order[self._curr_sequence_index]]\n",
    "            self._curr_sequence_index += 1\n",
    "            \n",
    "            rows     = df.loc[s.first_row:s.last_row]\n",
    "            sequence = np.asmatrix(rows[rows.columns.difference(['Id', 'Expected'])])\n",
    "            label    = rows['Expected'].iloc[0]  # All rows have the same label.\n",
    "\n",
    "            # This sequence may be shorter than the maximum, so extend it with zeros\n",
    "            # to ensure all sequences are of equal length.\n",
    "            length = s.length()\n",
    "            if length < self._max_sequence_length:\n",
    "                m = self._max_sequence_length - length\n",
    "                n = self.feature_count()\n",
    "                sequence = np.append(sequence, np.zeros((m, n)), axis=0)\n",
    "            \n",
    "            lengths.append(length)\n",
    "            sequences.append(sequence)\n",
    "            labels.append(label)\n",
    "\n",
    "        return lengths, sequences, labels\n",
    "    \n",
    "    def batch_count(self):\n",
    "        \"\"\"Returns the total number of batches. The final batch may be smaller.\"\"\"\n",
    "        return math.ceil(len(self._sequences) / self._batch_size)"
   ]
  },
  {
   "cell_type": "markdown",
   "metadata": {},
   "source": [
    "## Build a First Model"
   ]
  },
  {
   "cell_type": "markdown",
   "metadata": {},
   "source": [
    "Create a batcher only once, since it's expensive:"
   ]
  },
  {
   "cell_type": "code",
   "execution_count": 270,
   "metadata": {
    "collapsed": true
   },
   "outputs": [],
   "source": [
    "batcher = Batcher(df)"
   ]
  },
  {
   "cell_type": "markdown",
   "metadata": {},
   "source": [
    "Define some constants:"
   ]
  },
  {
   "cell_type": "code",
   "execution_count": 296,
   "metadata": {
    "collapsed": true
   },
   "outputs": [],
   "source": [
    "n_steps   = batcher.max_sequence_length()   # Longest input sequence is 19 measurements in one hour.\n",
    "n_inputs  = batcher.feature_count()         # Data consists of 22 features.\n",
    "n_neurons = 1                               # Have to start somewhere.\n",
    "n_outputs = 1                               # Regression task: predict fallen rain in mm."
   ]
  },
  {
   "cell_type": "markdown",
   "metadata": {},
   "source": [
    "Build the network:"
   ]
  },
  {
   "cell_type": "code",
   "execution_count": 297,
   "metadata": {
    "collapsed": true
   },
   "outputs": [],
   "source": [
    "tf.reset_default_graph()\n",
    "\n",
    "X          = tf.placeholder(tf.float32, shape=[None, n_steps, n_inputs], name='X')\n",
    "y          = tf.placeholder(tf.float32, shape=[None],                    name='y')\n",
    "seq_length = tf.placeholder(tf.int32,   shape=[None],                    name='seq_length')\n",
    "\n",
    "is_training = tf.placeholder(tf.bool, [], name='is_training')\n",
    "batch_norm_params = {\n",
    "    'is_training': is_training,\n",
    "    'decay': 0.99,\n",
    "    'updates_collections': None\n",
    "}\n",
    "\n",
    "# Use He-initialization for the weights to prevent vanishing/exploding gradients.\n",
    "he_init = variance_scaling_initializer()\n",
    "\n",
    "# The core the network is a set of Gated Recurrent Unit (GRU) cells, a simpler but\n",
    "# equally efficient variant of the Long Short-Term Memory (LSTM) cell.\n",
    "cell                = GRUCell(num_units=n_neurons, kernel_initializer=he_init, activation=tf.nn.relu)\n",
    "rnn_outputs, states = tf.nn.dynamic_rnn(cell, X, dtype=tf.float32, sequence_length=seq_length)\n",
    "\n",
    "# The GRU cell has #n_neurons outputs, and we need to map these onto one output for\n",
    "# our regression problem, to predict the amount of fallen rain. We use a fully connected\n",
    "# layer to do so, but we'll have to reshape its inputs and outputs.\n",
    "stacked_rnn_outputs = tf.reshape(rnn_outputs, [-1, n_neurons])\n",
    "stacked_outputs = fully_connected(\n",
    "    stacked_rnn_outputs,\n",
    "    n_outputs,\n",
    "    normalizer_fn=batch_norm,\n",
    "    normalizer_params=batch_norm_params,\n",
    "    activation_fn=None)\n",
    "outputs = tf.reshape(stacked_outputs, [-1, n_steps, n_outputs])\n",
    "\n",
    "learning_rate = 0.001\n",
    "\n",
    "# The loss function is the requested Mean Absolute Error (MAE).\n",
    "error       = outputs - y\n",
    "mae         = tf.reduce_mean(tf.abs(error), name='mae')\n",
    "optimizer   = tf.train.AdamOptimizer(learning_rate=learning_rate)\n",
    "training_op = optimizer.minimize(mae)\n",
    "\n",
    "init = tf.global_variables_initializer()"
   ]
  },
  {
   "cell_type": "markdown",
   "metadata": {},
   "source": [
    "Ensure we can visualize in TensorBoard:"
   ]
  },
  {
   "cell_type": "code",
   "execution_count": 298,
   "metadata": {
    "collapsed": true
   },
   "outputs": [],
   "source": [
    "now = datetime.utcnow().strftime('%Y%m%d%H%M%S')\n",
    "root_logdir = 'tf_logs'\n",
    "logdir = '{}/run-{}/'.format(root_logdir, now)\n",
    "\n",
    "mae_summary = tf.summary.scalar('MAE', mae)\n",
    "file_writer = tf.summary.FileWriter(logdir, tf.get_default_graph())"
   ]
  },
  {
   "cell_type": "markdown",
   "metadata": {},
   "source": [
    "Let's run the model:"
   ]
  },
  {
   "cell_type": "code",
   "execution_count": 299,
   "metadata": {
    "scrolled": true
   },
   "outputs": [
    {
     "name": "stdout",
     "output_type": "stream",
     "text": [
      "epoch 5000/5000\n",
      "Final MAE: 5.86987e-05\n"
     ]
    }
   ],
   "source": [
    "n_epochs  = 5000\n",
    "n_batches = batcher.batch_count()\n",
    "assert n_batches > 0\n",
    "\n",
    "with tf.Session() as sess:\n",
    "    init.run()\n",
    "    \n",
    "    for epoch in range(n_epochs):\n",
    "        print(\"\\repoch {}/{}\".format(epoch+1, n_epochs), end='')\n",
    "\n",
    "        batcher.reset()\n",
    "        for iteration in range(n_batches):\n",
    "            seq_length_batch, X_batch, y_batch = batcher.next_batch()\n",
    "            sess.run(training_op, feed_dict={X: X_batch, y: y_batch, seq_length: seq_length_batch, is_training: True})\n",
    "            if iteration % 1 == 0:\n",
    "                summary_str = mae_summary.eval(feed_dict={X: X_batch, y: y_batch, seq_length: seq_length_batch, is_training: False})\n",
    "                step = epoch * n_batches + iteration\n",
    "                file_writer.add_summary(summary_str, step)\n",
    "    \n",
    "    print(\"\\r\\nFinal MAE:\", mae.eval(feed_dict={X: X_batch, y: y_batch, seq_length: seq_length_batch, is_training: False}))"
   ]
  },
  {
   "cell_type": "code",
   "execution_count": 291,
   "metadata": {
    "collapsed": true
   },
   "outputs": [],
   "source": [
    "file_writer.close()"
   ]
  }
 ],
 "metadata": {
  "kernelspec": {
   "display_name": "Python 3",
   "language": "python",
   "name": "python3"
  },
  "language_info": {
   "codemirror_mode": {
    "name": "ipython",
    "version": 3
   },
   "file_extension": ".py",
   "mimetype": "text/x-python",
   "name": "python",
   "nbconvert_exporter": "python",
   "pygments_lexer": "ipython3",
   "version": "3.6.1"
  }
 },
 "nbformat": 4,
 "nbformat_minor": 2
}
